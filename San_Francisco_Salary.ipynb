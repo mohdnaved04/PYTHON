{
  "cells": [
    {
      "cell_type": "markdown",
      "metadata": {
        "id": "view-in-github",
        "colab_type": "text"
      },
      "source": [
        "<a href=\"https://colab.research.google.com/github/mohdnaved04/PYTHON/blob/main/San_Francisco_Salary.ipynb\" target=\"_parent\"><img src=\"https://colab.research.google.com/assets/colab-badge.svg\" alt=\"Open In Colab\"/></a>"
      ]
    },
    {
      "cell_type": "code",
      "execution_count": null,
      "metadata": {
        "id": "HOT8HL4Zevyx"
      },
      "outputs": [],
      "source": [
        "import numpy as np\n",
        "import pandas as pd"
      ]
    },
    {
      "cell_type": "code",
      "execution_count": null,
      "metadata": {
        "colab": {
          "base_uri": "https://localhost:8080/"
        },
        "id": "56OFG7wOj1eB",
        "outputId": "c22c5a00-ecbb-4c12-a34a-4a716cda2cde"
      },
      "outputs": [
        {
          "name": "stdout",
          "output_type": "stream",
          "text": [
            "Drive already mounted at /content/drive; to attempt to forcibly remount, call drive.mount(\"/content/drive\", force_remount=True).\n"
          ]
        }
      ],
      "source": [
        "from google.colab import drive\n",
        "drive.mount('/content/drive')\n"
      ]
    },
    {
      "cell_type": "code",
      "execution_count": null,
      "metadata": {
        "colab": {
          "base_uri": "https://localhost:8080/"
        },
        "id": "6RCYVF0jjyeg",
        "outputId": "13249066-f8a5-456f-f8df-cf2217c28a70"
      },
      "outputs": [
        {
          "name": "stderr",
          "output_type": "stream",
          "text": [
            "/tmp/ipython-input-49-1632289259.py:2: DtypeWarning: Columns (3,4,5,6,12) have mixed types. Specify dtype option on import or set low_memory=False.\n",
            "  df = pd.read_csv(file_path)\n"
          ]
        }
      ],
      "source": [
        "file_path = '/content/drive/MyDrive/Salaries.csv.zip'\n",
        "df = pd.read_csv(file_path)"
      ]
    },
    {
      "cell_type": "code",
      "execution_count": null,
      "metadata": {
        "colab": {
          "base_uri": "https://localhost:8080/"
        },
        "id": "x8zrXn-GjylD",
        "outputId": "f2c86110-8522-4e63-8b4b-ba4f3bbae569"
      },
      "outputs": [
        {
          "name": "stdout",
          "output_type": "stream",
          "text": [
            "   Id        EmployeeName                                        JobTitle  \\\n",
            "0   1      NATHANIEL FORD  GENERAL MANAGER-METROPOLITAN TRANSIT AUTHORITY   \n",
            "1   2        GARY JIMENEZ                 CAPTAIN III (POLICE DEPARTMENT)   \n",
            "2   3      ALBERT PARDINI                 CAPTAIN III (POLICE DEPARTMENT)   \n",
            "3   4   CHRISTOPHER CHONG            WIRE ROPE CABLE MAINTENANCE MECHANIC   \n",
            "4   5     PATRICK GARDNER    DEPUTY CHIEF OF DEPARTMENT,(FIRE DEPARTMENT)   \n",
            "5   6      DAVID SULLIVAN                       ASSISTANT DEPUTY CHIEF II   \n",
            "6   7           ALSON LEE              BATTALION CHIEF, (FIRE DEPARTMENT)   \n",
            "7   8       DAVID KUSHNER                  DEPUTY DIRECTOR OF INVESTMENTS   \n",
            "8   9      MICHAEL MORRIS              BATTALION CHIEF, (FIRE DEPARTMENT)   \n",
            "9  10  JOANNE HAYES-WHITE          CHIEF OF DEPARTMENT, (FIRE DEPARTMENT)   \n",
            "\n",
            "     BasePay OvertimePay   OtherPay Benefits   TotalPay  TotalPayBenefits  \\\n",
            "0  167411.18         0.0  400184.25      NaN  567595.43         567595.43   \n",
            "1  155966.02   245131.88  137811.38      NaN  538909.28         538909.28   \n",
            "2  212739.13   106088.18    16452.6      NaN  335279.91         335279.91   \n",
            "3    77916.0    56120.71   198306.9      NaN  332343.61         332343.61   \n",
            "4   134401.6      9737.0  182234.59      NaN  326373.19         326373.19   \n",
            "5   118602.0      8601.0  189082.74      NaN  316285.74         316285.74   \n",
            "6   92492.01     89062.9  134426.14      NaN  315981.05         315981.05   \n",
            "7  256576.96         0.0    51322.5      NaN  307899.46         307899.46   \n",
            "8  176932.64    86362.68   40132.23      NaN  303427.55         303427.55   \n",
            "9   285262.0         0.0   17115.73      NaN  302377.73         302377.73   \n",
            "\n",
            "   Year  Notes         Agency Status  \n",
            "0  2011    NaN  San Francisco    NaN  \n",
            "1  2011    NaN  San Francisco    NaN  \n",
            "2  2011    NaN  San Francisco    NaN  \n",
            "3  2011    NaN  San Francisco    NaN  \n",
            "4  2011    NaN  San Francisco    NaN  \n",
            "5  2011    NaN  San Francisco    NaN  \n",
            "6  2011    NaN  San Francisco    NaN  \n",
            "7  2011    NaN  San Francisco    NaN  \n",
            "8  2011    NaN  San Francisco    NaN  \n",
            "9  2011    NaN  San Francisco    NaN  \n"
          ]
        }
      ],
      "source": [
        "#DISPLAY TOP 10 ROWS OF THE DATAFRAME\n",
        "print(df.head(10))"
      ]
    },
    {
      "cell_type": "code",
      "execution_count": null,
      "metadata": {
        "colab": {
          "base_uri": "https://localhost:8080/"
        },
        "id": "I-SY3UFbeza3",
        "outputId": "b0aa0949-ba6a-4d18-8326-1959ea55b2c3"
      },
      "outputs": [
        {
          "name": "stdout",
          "output_type": "stream",
          "text": [
            "            Id      EmployeeName                      JobTitle       BasePay  \\\n",
            "148644  148645      Randy D Winn  Stationary Eng, Sewage Plant          0.00   \n",
            "148645  148646  Carolyn A Wilson     Human Services Technician          0.00   \n",
            "148646  148647      Not provided                  Not provided  Not Provided   \n",
            "148647  148648    Joann Anderson   Communications Dispatcher 2          0.00   \n",
            "148648  148649       Leon Walker                     Custodian          0.00   \n",
            "148649  148650     Roy I Tillery                     Custodian          0.00   \n",
            "148650  148651      Not provided                  Not provided  Not Provided   \n",
            "148651  148652      Not provided                  Not provided  Not Provided   \n",
            "148652  148653      Not provided                  Not provided  Not Provided   \n",
            "148653  148654         Joe Lopez    Counselor, Log Cabin Ranch          0.00   \n",
            "\n",
            "         OvertimePay      OtherPay      Benefits  TotalPay  TotalPayBenefits  \\\n",
            "148644          0.00          0.00          0.00      0.00              0.00   \n",
            "148645          0.00          0.00          0.00      0.00              0.00   \n",
            "148646  Not Provided  Not Provided  Not Provided      0.00              0.00   \n",
            "148647          0.00          0.00          0.00      0.00              0.00   \n",
            "148648          0.00          0.00          0.00      0.00              0.00   \n",
            "148649          0.00          0.00          0.00      0.00              0.00   \n",
            "148650  Not Provided  Not Provided  Not Provided      0.00              0.00   \n",
            "148651  Not Provided  Not Provided  Not Provided      0.00              0.00   \n",
            "148652  Not Provided  Not Provided  Not Provided      0.00              0.00   \n",
            "148653          0.00       -618.13          0.00   -618.13           -618.13   \n",
            "\n",
            "        Year  Notes         Agency Status  \n",
            "148644  2014    NaN  San Francisco     PT  \n",
            "148645  2014    NaN  San Francisco     PT  \n",
            "148646  2014    NaN  San Francisco    NaN  \n",
            "148647  2014    NaN  San Francisco     PT  \n",
            "148648  2014    NaN  San Francisco     PT  \n",
            "148649  2014    NaN  San Francisco     PT  \n",
            "148650  2014    NaN  San Francisco    NaN  \n",
            "148651  2014    NaN  San Francisco    NaN  \n",
            "148652  2014    NaN  San Francisco    NaN  \n",
            "148653  2014    NaN  San Francisco     PT  \n"
          ]
        }
      ],
      "source": [
        "#2 CHECK LAST 10 ROWS OF THE DATASET\n",
        "print(df.tail(10))"
      ]
    },
    {
      "cell_type": "code",
      "execution_count": null,
      "metadata": {
        "colab": {
          "base_uri": "https://localhost:8080/"
        },
        "id": "-dVOzPDNezd-",
        "outputId": "6aecc2ac-6d4c-47c4-8484-4ff962c51fb0"
      },
      "outputs": [
        {
          "name": "stdout",
          "output_type": "stream",
          "text": [
            "Shape of the Dataset is :  (148654, 13)\n"
          ]
        }
      ],
      "source": [
        "#3 FIND SHAPE OF OUR DATASET(NUMBER OF ROWS AND COUMNS)\n",
        "print(\"Shape of the Dataset is : \", df.shape)"
      ]
    },
    {
      "cell_type": "code",
      "execution_count": null,
      "metadata": {
        "colab": {
          "base_uri": "https://localhost:8080/"
        },
        "id": "hzBCWUnDezg3",
        "outputId": "3c3129c2-9e3c-4961-9dc5-e9842e19c335"
      },
      "outputs": [
        {
          "name": "stdout",
          "output_type": "stream",
          "text": [
            "<class 'pandas.core.frame.DataFrame'>\n",
            "RangeIndex: 148654 entries, 0 to 148653\n",
            "Data columns (total 13 columns):\n",
            " #   Column            Non-Null Count   Dtype  \n",
            "---  ------            --------------   -----  \n",
            " 0   Id                148654 non-null  int64  \n",
            " 1   EmployeeName      148654 non-null  object \n",
            " 2   JobTitle          148654 non-null  object \n",
            " 3   BasePay           148049 non-null  object \n",
            " 4   OvertimePay       148654 non-null  object \n",
            " 5   OtherPay          148654 non-null  object \n",
            " 6   Benefits          112495 non-null  object \n",
            " 7   TotalPay          148654 non-null  float64\n",
            " 8   TotalPayBenefits  148654 non-null  float64\n",
            " 9   Year              148654 non-null  int64  \n",
            " 10  Notes             0 non-null       float64\n",
            " 11  Agency            148654 non-null  object \n",
            " 12  Status            38119 non-null   object \n",
            "dtypes: float64(3), int64(2), object(8)\n",
            "memory usage: 14.7+ MB\n",
            "None\n"
          ]
        }
      ],
      "source": [
        "#4 GETTING INFORMATION ABOUT OUR DATASET LIKE TOTAL NUMBER ROWS, TOTAL NUMBER OF COLUMNS , DATATYPES OF EACH COLUMN AND MEMORY REQUIREMENT\n",
        "print(df.info())\n"
      ]
    },
    {
      "cell_type": "code",
      "execution_count": null,
      "metadata": {
        "colab": {
          "base_uri": "https://localhost:8080/"
        },
        "id": "5bcwhJ4wezj4",
        "outputId": "1590a101-a062-4cc2-c951-9b0838f4fa8b"
      },
      "outputs": [
        {
          "name": "stdout",
          "output_type": "stream",
          "text": [
            "Id                       0\n",
            "EmployeeName             0\n",
            "JobTitle                 0\n",
            "BasePay                605\n",
            "OvertimePay              0\n",
            "OtherPay                 0\n",
            "Benefits             36159\n",
            "TotalPay                 0\n",
            "TotalPayBenefits         0\n",
            "Year                     0\n",
            "Notes               148654\n",
            "Agency                   0\n",
            "Status              110535\n",
            "dtype: int64\n"
          ]
        }
      ],
      "source": [
        "#5 CHECK NULL VALUES IN THE DATASET\n",
        "print(df.isna().sum())"
      ]
    },
    {
      "cell_type": "code",
      "execution_count": null,
      "metadata": {
        "colab": {
          "base_uri": "https://localhost:8080/"
        },
        "id": "W3_PREnHezmf",
        "outputId": "fb57677b-51f0-4437-e9fc-d16baee3d063"
      },
      "outputs": [
        {
          "name": "stdout",
          "output_type": "stream",
          "text": [
            "Index(['EmployeeName', 'JobTitle', 'BasePay', 'OvertimePay', 'OtherPay',\n",
            "       'Benefits', 'TotalPay', 'TotalPayBenefits', 'Year'],\n",
            "      dtype='object')\n"
          ]
        }
      ],
      "source": [
        "#6 DROP ID , Notes, Agency and Status columns\n",
        "df= df.drop(columns = ['Id', 'Notes', 'Agency', 'Status'])\n",
        "print(df.columns)"
      ]
    },
    {
      "cell_type": "code",
      "execution_count": null,
      "metadata": {
        "colab": {
          "base_uri": "https://localhost:8080/"
        },
        "id": "GinVp-kJhm0-",
        "outputId": "aaf1c7c2-bc69-49b5-8412-2c298307fb71"
      },
      "outputs": [
        {
          "name": "stdout",
          "output_type": "stream",
          "text": [
            "            TotalPay  TotalPayBenefits           Year\n",
            "count  148654.000000     148654.000000  148654.000000\n",
            "mean    74768.321972      93692.554811    2012.522643\n",
            "std     50517.005274      62793.533483       1.117538\n",
            "min      -618.130000       -618.130000    2011.000000\n",
            "25%     36168.995000      44065.650000    2012.000000\n",
            "50%     71426.610000      92404.090000    2013.000000\n",
            "75%    105839.135000     132876.450000    2014.000000\n",
            "max    567595.430000     567595.430000    2014.000000\n",
            "                  TotalPay  TotalPayBenefits      Year\n",
            "TotalPay          1.000000          0.977313  0.032090\n",
            "TotalPayBenefits  0.977313          1.000000  0.151947\n",
            "Year              0.032090          0.151947  1.000000\n"
          ]
        }
      ],
      "source": [
        "#7 GET OVERALL STATSTIC ABOUT THE DATAFRAME\n",
        "print(df.describe())\n",
        "print(df.corr(numeric_only = True))"
      ]
    },
    {
      "cell_type": "code",
      "execution_count": null,
      "metadata": {
        "colab": {
          "base_uri": "https://localhost:8080/"
        },
        "id": "AhJSxfhvhwdC",
        "outputId": "19ee596b-2d34-49cc-87fb-034fe19e4008"
      },
      "outputs": [
        {
          "name": "stdout",
          "output_type": "stream",
          "text": [
            "EmployeeName\n",
            "Kevin Lee       13\n",
            "William Wong    11\n",
            "Richard Lee     11\n",
            "Steven Lee      11\n",
            "John Chan        9\n",
            "Name: count, dtype: int64\n"
          ]
        }
      ],
      "source": [
        "#8 FIND OCCURENCE OF THE EMPLOYEE NAMES(TOP5)\n",
        "employee_occ = df['EmployeeName'].value_counts().head(5)\n",
        "print(employee_occ)"
      ]
    },
    {
      "cell_type": "code",
      "execution_count": null,
      "metadata": {
        "colab": {
          "base_uri": "https://localhost:8080/"
        },
        "id": "C8_OjPKUhzKP",
        "outputId": "acf2ed8f-efa9-4a9e-fd35-738c64637cba"
      },
      "outputs": [
        {
          "name": "stdout",
          "output_type": "stream",
          "text": [
            "2159\n"
          ]
        }
      ],
      "source": [
        "#9 FIND THE NUMBERR OF UNIQUE JOB TITLEES\n",
        "unique_jobs = df['JobTitle'].unique()\n",
        "print(len(unique_jobs))\n"
      ]
    },
    {
      "cell_type": "code",
      "execution_count": null,
      "metadata": {
        "colab": {
          "base_uri": "https://localhost:8080/"
        },
        "id": "GUFLae5HhzNL",
        "outputId": "4a376471-383e-4f95-93ca-2797ad11b9e1"
      },
      "outputs": [
        {
          "name": "stdout",
          "output_type": "stream",
          "text": [
            "552\n"
          ]
        }
      ],
      "source": [
        "#10 TOTAL  NUMBER OF JOB TITLES CONTAIN CAPTIAN\n",
        "ContainCaptain = df[df['JobTitle'].str.contains(str('captain'), case = False, na = False )]\n",
        "print(len(ContainCaptain))"
      ]
    },
    {
      "cell_type": "code",
      "execution_count": null,
      "metadata": {
        "colab": {
          "base_uri": "https://localhost:8080/"
        },
        "id": "n9XUueKThzPw",
        "outputId": "185e2184-bf3c-4901-852e-2a2c203ead06"
      },
      "outputs": [
        {
          "name": "stdout",
          "output_type": "stream",
          "text": [
            "                EmployeeName\n",
            "4            PATRICK GARDNER\n",
            "6                  ALSON LEE\n",
            "8             MICHAEL MORRIS\n",
            "9         JOANNE HAYES-WHITE\n",
            "10             ARTHUR KENNEY\n",
            "...                      ...\n",
            "32623           JAMES BARDEN\n",
            "36162     Joanne Hayes-White\n",
            "72926   Joanne M Hayes-White\n",
            "102303        Robert E Evans\n",
            "110535  Joanne M Hayes-White\n",
            "\n",
            "[226 rows x 1 columns]\n"
          ]
        }
      ],
      "source": [
        "#11 DISPLAY AL THE EMPLOYEE NAMES FROM FIRE DEPARTMENT\n",
        "FireDepartment = df.loc[ df['JobTitle'].str.contains(str('fire department'), case = False, na = False), [\"EmployeeName\"]]\n",
        "print(FireDepartment)"
      ]
    },
    {
      "cell_type": "code",
      "execution_count": null,
      "metadata": {
        "colab": {
          "base_uri": "https://localhost:8080/"
        },
        "id": "uSzm8329hzSm",
        "outputId": "b94afdd4-1bfa-4654-c80e-b9120be00730"
      },
      "outputs": [
        {
          "name": "stdout",
          "output_type": "stream",
          "text": [
            " Minimum BasePay : -166.01 \n",
            " Maximum BasePay : 319275.01 \n",
            " Average BasePay : 66325.4488404877 \n"
          ]
        }
      ],
      "source": [
        "#12 FIND MINIMUM, MAXIMUM AND AVERAGE BASEPAY\n",
        "df['BasePay'] = pd.to_numeric(df[\"BasePay\"], errors = 'coerce')\n",
        "print( f\" Minimum BasePay : {df['BasePay'].min()} \")\n",
        "print( f\" Maximum BasePay : {df['BasePay'].max()} \")\n",
        "print( f\" Average BasePay : {df['BasePay'].mean() } \")"
      ]
    },
    {
      "cell_type": "code",
      "execution_count": null,
      "metadata": {
        "id": "2KkuplwIhzVh"
      },
      "outputs": [],
      "source": [
        "#13 REPLACE \"Not Provided; in EmployeeName' column to NaN\"\n",
        "df['EmployeeName'] = df['EmployeeName'].replace('Not Provided', np.nan)"
      ]
    },
    {
      "cell_type": "code",
      "execution_count": null,
      "metadata": {
        "id": "CWvR8sdnhzYF"
      },
      "outputs": [],
      "source": [
        "#14 DROP THE ROWSHAVING 5 MISSIGN VALUES\n",
        "df = df.dropna(thresh = 5)\n"
      ]
    },
    {
      "cell_type": "code",
      "execution_count": null,
      "metadata": {
        "colab": {
          "base_uri": "https://localhost:8080/"
        },
        "id": "sW3ipkCEhzaj",
        "outputId": "81709cb0-3249-4269-f6a0-7a60d6b959dd"
      },
      "outputs": [
        {
          "name": "stdout",
          "output_type": "stream",
          "text": [
            "                              JobTitle\n",
            "2      CAPTAIN III (POLICE DEPARTMENT)\n",
            "36519                        Captain 3\n"
          ]
        }
      ],
      "source": [
        "#15 FIND JOB TITLE OF ALBERT PARDINI\n",
        "print(df.loc[df['EmployeeName'].str.contains('Albert Pardini', case= False, na = False), [\"JobTitle\"]])"
      ]
    },
    {
      "cell_type": "code",
      "execution_count": null,
      "metadata": {
        "colab": {
          "base_uri": "https://localhost:8080/"
        },
        "id": "EWiuUYZIhzdN",
        "outputId": "0b3c7c3c-1ca4-47a3-bee2-dc2808f1b51b"
      },
      "outputs": [
        {
          "name": "stdout",
          "output_type": "stream",
          "text": [
            "   TotalPayBenefits\n",
            "2         335279.91\n",
            "        JobTitle\n",
            "36519  Captain 3\n"
          ]
        }
      ],
      "source": [
        "#16 HOW MUCH ALBERT PARDINI  MAKE (INCLUDE BENEFITS) ?\n",
        "print(df[df[\"EmployeeName\"]== \"ALBERT PARDINI\"][['TotalPayBenefits']])\n",
        "print(df[df['EmployeeName'] == 'Albert Pardini'][['JobTitle']])\n"
      ]
    },
    {
      "cell_type": "code",
      "execution_count": null,
      "metadata": {
        "colab": {
          "base_uri": "https://localhost:8080/"
        },
        "id": "uDRaMCU8hzg9",
        "outputId": "3ce7ebc8-859e-483f-b167-0e1eb33d2a08"
      },
      "outputs": [
        {
          "output_type": "stream",
          "name": "stdout",
          "text": [
            "         EmployeeName\n",
            "72925  Gregory P Suhr\n"
          ]
        }
      ],
      "source": [
        "#17 DISPLAY NAME OF THE PERSON HAVING THE HIGHEST BASEPAY\n",
        "print(df.loc[df['BasePay'] == df['BasePay'].max(), ['EmployeeName']])"
      ]
    },
    {
      "cell_type": "code",
      "execution_count": null,
      "metadata": {
        "colab": {
          "background_save": true
        },
        "id": "68cCYO2Jhzl8",
        "outputId": "245eb96f-a561-4ac0-da61-162b7066c20d"
      },
      "outputs": [
        {
          "ename": "KeyError",
          "evalue": "'Column not found: 66325.4488404877'",
          "output_type": "error",
          "traceback": [
            "\u001b[0;31m---------------------------------------------------------------------------\u001b[0m",
            "\u001b[0;31mKeyError\u001b[0m                                  Traceback (most recent call last)",
            "\u001b[0;32m/tmp/ipython-input-83-4093709239.py\u001b[0m in \u001b[0;36m<cell line: 0>\u001b[0;34m()\u001b[0m\n\u001b[1;32m      1\u001b[0m \u001b[0;31m#18 FIND AVERAGE BASEPAY OF ALL EMPOYEE PER YEAR\u001b[0m\u001b[0;34m\u001b[0m\u001b[0;34m\u001b[0m\u001b[0m\n\u001b[0;32m----> 2\u001b[0;31m \u001b[0mprint\u001b[0m\u001b[0;34m(\u001b[0m\u001b[0mdf\u001b[0m\u001b[0;34m.\u001b[0m\u001b[0mgroupby\u001b[0m\u001b[0;34m(\u001b[0m\u001b[0;34m'Year'\u001b[0m\u001b[0;34m)\u001b[0m\u001b[0;34m[\u001b[0m\u001b[0mdf\u001b[0m\u001b[0;34m[\u001b[0m\u001b[0;34m'BasePay'\u001b[0m\u001b[0;34m]\u001b[0m\u001b[0;34m.\u001b[0m\u001b[0mmean\u001b[0m\u001b[0;34m(\u001b[0m\u001b[0;34m)\u001b[0m\u001b[0;34m]\u001b[0m\u001b[0;34m)\u001b[0m\u001b[0;34m\u001b[0m\u001b[0;34m\u001b[0m\u001b[0m\n\u001b[0m",
            "\u001b[0;32m/usr/local/lib/python3.11/dist-packages/pandas/core/groupby/generic.py\u001b[0m in \u001b[0;36m__getitem__\u001b[0;34m(self, key)\u001b[0m\n\u001b[1;32m   1949\u001b[0m                 \u001b[0;34m\"Use a list instead.\"\u001b[0m\u001b[0;34m\u001b[0m\u001b[0;34m\u001b[0m\u001b[0m\n\u001b[1;32m   1950\u001b[0m             )\n\u001b[0;32m-> 1951\u001b[0;31m         \u001b[0;32mreturn\u001b[0m \u001b[0msuper\u001b[0m\u001b[0;34m(\u001b[0m\u001b[0;34m)\u001b[0m\u001b[0;34m.\u001b[0m\u001b[0m__getitem__\u001b[0m\u001b[0;34m(\u001b[0m\u001b[0mkey\u001b[0m\u001b[0;34m)\u001b[0m\u001b[0;34m\u001b[0m\u001b[0;34m\u001b[0m\u001b[0m\n\u001b[0m\u001b[1;32m   1952\u001b[0m \u001b[0;34m\u001b[0m\u001b[0m\n\u001b[1;32m   1953\u001b[0m     \u001b[0;32mdef\u001b[0m \u001b[0m_gotitem\u001b[0m\u001b[0;34m(\u001b[0m\u001b[0mself\u001b[0m\u001b[0;34m,\u001b[0m \u001b[0mkey\u001b[0m\u001b[0;34m,\u001b[0m \u001b[0mndim\u001b[0m\u001b[0;34m:\u001b[0m \u001b[0mint\u001b[0m\u001b[0;34m,\u001b[0m \u001b[0msubset\u001b[0m\u001b[0;34m=\u001b[0m\u001b[0;32mNone\u001b[0m\u001b[0;34m)\u001b[0m\u001b[0;34m:\u001b[0m\u001b[0;34m\u001b[0m\u001b[0;34m\u001b[0m\u001b[0m\n",
            "\u001b[0;32m/usr/local/lib/python3.11/dist-packages/pandas/core/base.py\u001b[0m in \u001b[0;36m__getitem__\u001b[0;34m(self, key)\u001b[0m\n\u001b[1;32m    242\u001b[0m         \u001b[0;32melse\u001b[0m\u001b[0;34m:\u001b[0m\u001b[0;34m\u001b[0m\u001b[0;34m\u001b[0m\u001b[0m\n\u001b[1;32m    243\u001b[0m             \u001b[0;32mif\u001b[0m \u001b[0mkey\u001b[0m \u001b[0;32mnot\u001b[0m \u001b[0;32min\u001b[0m \u001b[0mself\u001b[0m\u001b[0;34m.\u001b[0m\u001b[0mobj\u001b[0m\u001b[0;34m:\u001b[0m\u001b[0;34m\u001b[0m\u001b[0;34m\u001b[0m\u001b[0m\n\u001b[0;32m--> 244\u001b[0;31m                 \u001b[0;32mraise\u001b[0m \u001b[0mKeyError\u001b[0m\u001b[0;34m(\u001b[0m\u001b[0;34mf\"Column not found: {key}\"\u001b[0m\u001b[0;34m)\u001b[0m\u001b[0;34m\u001b[0m\u001b[0;34m\u001b[0m\u001b[0m\n\u001b[0m\u001b[1;32m    245\u001b[0m             \u001b[0mndim\u001b[0m \u001b[0;34m=\u001b[0m \u001b[0mself\u001b[0m\u001b[0;34m.\u001b[0m\u001b[0mobj\u001b[0m\u001b[0;34m[\u001b[0m\u001b[0mkey\u001b[0m\u001b[0;34m]\u001b[0m\u001b[0;34m.\u001b[0m\u001b[0mndim\u001b[0m\u001b[0;34m\u001b[0m\u001b[0;34m\u001b[0m\u001b[0m\n\u001b[1;32m    246\u001b[0m             \u001b[0;32mreturn\u001b[0m \u001b[0mself\u001b[0m\u001b[0;34m.\u001b[0m\u001b[0m_gotitem\u001b[0m\u001b[0;34m(\u001b[0m\u001b[0mkey\u001b[0m\u001b[0;34m,\u001b[0m \u001b[0mndim\u001b[0m\u001b[0;34m=\u001b[0m\u001b[0mndim\u001b[0m\u001b[0;34m)\u001b[0m\u001b[0;34m\u001b[0m\u001b[0;34m\u001b[0m\u001b[0m\n",
            "\u001b[0;31mKeyError\u001b[0m: 'Column not found: 66325.4488404877'"
          ]
        }
      ],
      "source": [
        "#18 FIND AVERAGE BASEPAY OF ALL EMPOYEE PER YEAR"
      ]
    },
    {
      "cell_type": "code",
      "execution_count": null,
      "metadata": {
        "id": "TSdlVYUMk8QC",
        "colab": {
          "base_uri": "https://localhost:8080/"
        },
        "outputId": "89e09957-826e-4877-93bb-fd5f4682cf03"
      },
      "outputs": [
        {
          "output_type": "stream",
          "name": "stdout",
          "text": [
            "JobTitle\n",
            "ACCOUNT CLERK                                     43300.806506\n",
            "ACCOUNTANT                                        46643.172000\n",
            "ACCOUNTANT INTERN                                 28732.663958\n",
            "ACPO,JuvP, Juv Prob (SFERS)                       62290.780000\n",
            "ACUPUNCTURIST                                     66374.400000\n",
            "                                                      ...     \n",
            "X-RAY LABORATORY AIDE                             47664.773077\n",
            "X-Ray Laboratory Aide                             46086.387100\n",
            "YOUTH COMMISSION ADVISOR, BOARD OF SUPERVISORS    52609.910000\n",
            "Youth Comm Advisor                                39077.957500\n",
            "ZOO CURATOR                                       43148.000000\n",
            "Name: BasePay, Length: 2159, dtype: float64\n"
          ]
        }
      ],
      "source": [
        "#19 FIND AVERAGE BASEPAY OF ALL EMPLOYEE PERJOBTITLE\n",
        "print(df.groupby('JobTitle')['BasePay'].mean())"
      ]
    },
    {
      "cell_type": "code",
      "execution_count": null,
      "metadata": {
        "id": "K9jphz2RlCbM",
        "colab": {
          "base_uri": "https://localhost:8080/"
        },
        "outputId": "6c9b5eed-639e-410e-c540-232a8392a3dd"
      },
      "outputs": [
        {
          "output_type": "stream",
          "name": "stdout",
          "text": [
            "46643.172\n"
          ]
        }
      ],
      "source": [
        "#20 FIND AVERAGE BASEPAY OF EMPLOYEE JOB TITLE ACCOUNTANT\n",
        "print( df.groupby('JobTitle')['BasePay'].mean().loc['ACCOUNTANT'])"
      ]
    },
    {
      "cell_type": "code",
      "execution_count": null,
      "metadata": {
        "id": "uLZrpdaKlIJg",
        "colab": {
          "base_uri": "https://localhost:8080/"
        },
        "outputId": "f83ce9b3-8f08-4153-e454-108b8cab5982"
      },
      "outputs": [
        {
          "output_type": "stream",
          "name": "stdout",
          "text": [
            "JobTitle\n",
            "Transit Operator                7036\n",
            "Special Nurse                   4389\n",
            "Registered Nurse                3736\n",
            "Public Svc Aide-Public Works    2518\n",
            "Police Officer 3                2421\n",
            "Name: count, dtype: int64\n"
          ]
        }
      ],
      "source": [
        "#21 FIND TOP 5 MOST COMMON JOBS\n",
        "print(df['JobTitle'].value_counts().head(5))"
      ]
    },
    {
      "cell_type": "code",
      "execution_count": null,
      "metadata": {
        "id": "yXJm-xqRlPB9"
      },
      "outputs": [],
      "source": []
    }
  ],
  "metadata": {
    "colab": {
      "provenance": [],
      "authorship_tag": "ABX9TyN8RdluJrs2yGrTU9lv4FXK",
      "include_colab_link": true
    },
    "kernelspec": {
      "display_name": "Python 3",
      "name": "python3"
    },
    "language_info": {
      "name": "python"
    }
  },
  "nbformat": 4,
  "nbformat_minor": 0
}
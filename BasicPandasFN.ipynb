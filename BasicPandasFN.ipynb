{
  "cells": [
    {
      "cell_type": "markdown",
      "metadata": {
        "id": "view-in-github",
        "colab_type": "text"
      },
      "source": [
        "<a href=\"https://colab.research.google.com/github/mohdnaved04/PYTHON/blob/main/BasicPandasFN.ipynb\" target=\"_parent\"><img src=\"https://colab.research.google.com/assets/colab-badge.svg\" alt=\"Open In Colab\"/></a>"
      ]
    },
    {
      "cell_type": "code",
      "execution_count": null,
      "metadata": {
        "id": "TPG27SjfvIUg"
      },
      "outputs": [],
      "source": [
        "import numpy as np\n",
        "import pandas as pd"
      ]
    },
    {
      "cell_type": "code",
      "execution_count": null,
      "metadata": {
        "colab": {
          "base_uri": "https://localhost:8080/"
        },
        "id": "tj7IoAetvxEZ",
        "outputId": "849645a1-8919-4fdf-de85-63dfc0b86621"
      },
      "outputs": [
        {
          "output_type": "stream",
          "name": "stdout",
          "text": [
            "{'Name': ['Alice', 'Bob', 'Charlie', 'Diana', 'Ethan', 'Fiona', 'George', 'Hannah', 'Isaac', 'Julia'], 'Marks': array([93, 83, 82, 91, 93, 95, 96, 86, 94, 82]), 'Gender': ['Female', 'Male', 'Male', 'Female', 'Male', 'Female', 'Male', 'Female', 'Male', 'Female']}\n",
            "      Name  Marks  Gender\n",
            "0    Alice     93  Female\n",
            "1      Bob     83    Male\n",
            "2  Charlie     82    Male\n",
            "3    Diana     91  Female\n",
            "4    Ethan     93    Male\n",
            "5    Fiona     95  Female\n",
            "6   George     96    Male\n",
            "7   Hannah     86  Female\n",
            "8    Isaac     94    Male\n",
            "9    Julia     82  Female\n"
          ]
        }
      ],
      "source": [
        "dict1 = { \"Name\" : [\"Alice\", \"Bob\", \"Charlie\", \"Diana\", \"Ethan\", \"Fiona\", \"George\", \"Hannah\", \"Isaac\", \"Julia\"],\n",
        "           \"Marks\" : np.random.randint( 80, 100, 10),\n",
        "            \"Gender\" : [\"Female\", \"Male\", \"Male\", \"Female\", \"Male\", \"Female\", \"Male\", \"Female\", \"Male\", \"Female\"]\n",
        "        }\n",
        "print(dict1)\n",
        "\n",
        "df1= pd.DataFrame( dict1)\n",
        "print(df1)"
      ]
    },
    {
      "cell_type": "code",
      "execution_count": null,
      "metadata": {
        "id": "5ukPt3gIwhu8",
        "colab": {
          "base_uri": "https://localhost:8080/"
        },
        "outputId": "0226f568-c756-4b04-e59b-02d56ad94c25"
      },
      "outputs": [
        {
          "output_type": "stream",
          "name": "stdout",
          "text": [
            "      Name  Marks  Gender\n",
            "0    Alice     93  Female\n",
            "1      Bob     83    Male\n",
            "2  Charlie     82    Male\n"
          ]
        }
      ],
      "source": [
        "#1. CHECK FIRST 3 ROWS OF DATASET\n",
        "print( df1.head(3))"
      ]
    },
    {
      "cell_type": "code",
      "source": [
        "#2. CHECK LAST THREE ROWS OF DATASET\n",
        "print( df1.tail(3))"
      ],
      "metadata": {
        "id": "LJzysQde0Ahx",
        "colab": {
          "base_uri": "https://localhost:8080/"
        },
        "outputId": "159eb143-6f10-4a5d-a2e6-15158ed4fa45"
      },
      "execution_count": null,
      "outputs": [
        {
          "output_type": "stream",
          "name": "stdout",
          "text": [
            "     Name  Marks  Gender\n",
            "7  Hannah     86  Female\n",
            "8   Isaac     94    Male\n",
            "9   Julia     82  Female\n"
          ]
        }
      ]
    },
    {
      "cell_type": "code",
      "source": [
        "#3. FIND THE SHAPE OF DATASET (no. of rows & columns)\n",
        "df1.shape"
      ],
      "metadata": {
        "id": "2Lg3kU380Emt",
        "colab": {
          "base_uri": "https://localhost:8080/"
        },
        "outputId": "e336cb1c-e6bb-495e-c7e2-be0da44afc4e"
      },
      "execution_count": null,
      "outputs": [
        {
          "output_type": "execute_result",
          "data": {
            "text/plain": [
              "(10, 3)"
            ]
          },
          "metadata": {},
          "execution_count": 42
        }
      ]
    },
    {
      "cell_type": "code",
      "source": [
        "#4. GET INFO ABOUT OUR DATASET LIKE total no. rows, columns, data type of each & memory requirement\n",
        "print(df1.info())"
      ],
      "metadata": {
        "id": "vutYVkui0LEk",
        "colab": {
          "base_uri": "https://localhost:8080/"
        },
        "outputId": "272b45f7-1b48-46c1-dfb4-fce432cc29e2"
      },
      "execution_count": null,
      "outputs": [
        {
          "output_type": "stream",
          "name": "stdout",
          "text": [
            "<class 'pandas.core.frame.DataFrame'>\n",
            "Index: 10 entries, 0 to 9\n",
            "Data columns (total 3 columns):\n",
            " #   Column  Non-Null Count  Dtype \n",
            "---  ------  --------------  ----- \n",
            " 0   Name    10 non-null     object\n",
            " 1   Marks   10 non-null     int64 \n",
            " 2   Gender  10 non-null     object\n",
            "dtypes: int64(1), object(2)\n",
            "memory usage: 320.0+ bytes\n",
            "None\n"
          ]
        }
      ]
    },
    {
      "cell_type": "code",
      "source": [
        "#5. CHECK NULL VALUES IN THE DATASET\n",
        "print(df1.isnull())"
      ],
      "metadata": {
        "id": "vuJ0_iUa0Ysv",
        "colab": {
          "base_uri": "https://localhost:8080/"
        },
        "outputId": "7ee753ac-1636-490c-bb82-f5ddf59d9622"
      },
      "execution_count": null,
      "outputs": [
        {
          "output_type": "stream",
          "name": "stdout",
          "text": [
            "    Name  Marks  Gender\n",
            "0  False  False   False\n",
            "1  False  False   False\n",
            "2  False  False   False\n",
            "3  False  False   False\n",
            "4  False  False   False\n",
            "5  False  False   False\n",
            "6  False  False   False\n",
            "7  False  False   False\n",
            "8  False  False   False\n",
            "9  False  False   False\n"
          ]
        }
      ]
    },
    {
      "cell_type": "code",
      "source": [
        "#6. GET STATISTICS ABOUT THE DATAFRAME\n",
        "df1.describe()"
      ],
      "metadata": {
        "id": "UekZv8Dz0c0P",
        "colab": {
          "base_uri": "https://localhost:8080/",
          "height": 300
        },
        "outputId": "24f3711f-0928-4f31-aeb7-878cd8aac080"
      },
      "execution_count": null,
      "outputs": [
        {
          "output_type": "execute_result",
          "data": {
            "text/plain": [
              "           Marks\n",
              "count  10.000000\n",
              "mean   89.500000\n",
              "std     5.642104\n",
              "min    82.000000\n",
              "25%    83.750000\n",
              "50%    92.000000\n",
              "75%    93.750000\n",
              "max    96.000000"
            ],
            "text/html": [
              "\n",
              "  <div id=\"df-4aab68b8-ff9b-4e9b-b91d-a36218ba5689\" class=\"colab-df-container\">\n",
              "    <div>\n",
              "<style scoped>\n",
              "    .dataframe tbody tr th:only-of-type {\n",
              "        vertical-align: middle;\n",
              "    }\n",
              "\n",
              "    .dataframe tbody tr th {\n",
              "        vertical-align: top;\n",
              "    }\n",
              "\n",
              "    .dataframe thead th {\n",
              "        text-align: right;\n",
              "    }\n",
              "</style>\n",
              "<table border=\"1\" class=\"dataframe\">\n",
              "  <thead>\n",
              "    <tr style=\"text-align: right;\">\n",
              "      <th></th>\n",
              "      <th>Marks</th>\n",
              "    </tr>\n",
              "  </thead>\n",
              "  <tbody>\n",
              "    <tr>\n",
              "      <th>count</th>\n",
              "      <td>10.000000</td>\n",
              "    </tr>\n",
              "    <tr>\n",
              "      <th>mean</th>\n",
              "      <td>89.500000</td>\n",
              "    </tr>\n",
              "    <tr>\n",
              "      <th>std</th>\n",
              "      <td>5.642104</td>\n",
              "    </tr>\n",
              "    <tr>\n",
              "      <th>min</th>\n",
              "      <td>82.000000</td>\n",
              "    </tr>\n",
              "    <tr>\n",
              "      <th>25%</th>\n",
              "      <td>83.750000</td>\n",
              "    </tr>\n",
              "    <tr>\n",
              "      <th>50%</th>\n",
              "      <td>92.000000</td>\n",
              "    </tr>\n",
              "    <tr>\n",
              "      <th>75%</th>\n",
              "      <td>93.750000</td>\n",
              "    </tr>\n",
              "    <tr>\n",
              "      <th>max</th>\n",
              "      <td>96.000000</td>\n",
              "    </tr>\n",
              "  </tbody>\n",
              "</table>\n",
              "</div>\n",
              "    <div class=\"colab-df-buttons\">\n",
              "\n",
              "  <div class=\"colab-df-container\">\n",
              "    <button class=\"colab-df-convert\" onclick=\"convertToInteractive('df-4aab68b8-ff9b-4e9b-b91d-a36218ba5689')\"\n",
              "            title=\"Convert this dataframe to an interactive table.\"\n",
              "            style=\"display:none;\">\n",
              "\n",
              "  <svg xmlns=\"http://www.w3.org/2000/svg\" height=\"24px\" viewBox=\"0 -960 960 960\">\n",
              "    <path d=\"M120-120v-720h720v720H120Zm60-500h600v-160H180v160Zm220 220h160v-160H400v160Zm0 220h160v-160H400v160ZM180-400h160v-160H180v160Zm440 0h160v-160H620v160ZM180-180h160v-160H180v160Zm440 0h160v-160H620v160Z\"/>\n",
              "  </svg>\n",
              "    </button>\n",
              "\n",
              "  <style>\n",
              "    .colab-df-container {\n",
              "      display:flex;\n",
              "      gap: 12px;\n",
              "    }\n",
              "\n",
              "    .colab-df-convert {\n",
              "      background-color: #E8F0FE;\n",
              "      border: none;\n",
              "      border-radius: 50%;\n",
              "      cursor: pointer;\n",
              "      display: none;\n",
              "      fill: #1967D2;\n",
              "      height: 32px;\n",
              "      padding: 0 0 0 0;\n",
              "      width: 32px;\n",
              "    }\n",
              "\n",
              "    .colab-df-convert:hover {\n",
              "      background-color: #E2EBFA;\n",
              "      box-shadow: 0px 1px 2px rgba(60, 64, 67, 0.3), 0px 1px 3px 1px rgba(60, 64, 67, 0.15);\n",
              "      fill: #174EA6;\n",
              "    }\n",
              "\n",
              "    .colab-df-buttons div {\n",
              "      margin-bottom: 4px;\n",
              "    }\n",
              "\n",
              "    [theme=dark] .colab-df-convert {\n",
              "      background-color: #3B4455;\n",
              "      fill: #D2E3FC;\n",
              "    }\n",
              "\n",
              "    [theme=dark] .colab-df-convert:hover {\n",
              "      background-color: #434B5C;\n",
              "      box-shadow: 0px 1px 3px 1px rgba(0, 0, 0, 0.15);\n",
              "      filter: drop-shadow(0px 1px 2px rgba(0, 0, 0, 0.3));\n",
              "      fill: #FFFFFF;\n",
              "    }\n",
              "  </style>\n",
              "\n",
              "    <script>\n",
              "      const buttonEl =\n",
              "        document.querySelector('#df-4aab68b8-ff9b-4e9b-b91d-a36218ba5689 button.colab-df-convert');\n",
              "      buttonEl.style.display =\n",
              "        google.colab.kernel.accessAllowed ? 'block' : 'none';\n",
              "\n",
              "      async function convertToInteractive(key) {\n",
              "        const element = document.querySelector('#df-4aab68b8-ff9b-4e9b-b91d-a36218ba5689');\n",
              "        const dataTable =\n",
              "          await google.colab.kernel.invokeFunction('convertToInteractive',\n",
              "                                                    [key], {});\n",
              "        if (!dataTable) return;\n",
              "\n",
              "        const docLinkHtml = 'Like what you see? Visit the ' +\n",
              "          '<a target=\"_blank\" href=https://colab.research.google.com/notebooks/data_table.ipynb>data table notebook</a>'\n",
              "          + ' to learn more about interactive tables.';\n",
              "        element.innerHTML = '';\n",
              "        dataTable['output_type'] = 'display_data';\n",
              "        await google.colab.output.renderOutput(dataTable, element);\n",
              "        const docLink = document.createElement('div');\n",
              "        docLink.innerHTML = docLinkHtml;\n",
              "        element.appendChild(docLink);\n",
              "      }\n",
              "    </script>\n",
              "  </div>\n",
              "\n",
              "\n",
              "    <div id=\"df-d6323951-fa65-4505-b1b1-bc079ce1d974\">\n",
              "      <button class=\"colab-df-quickchart\" onclick=\"quickchart('df-d6323951-fa65-4505-b1b1-bc079ce1d974')\"\n",
              "                title=\"Suggest charts\"\n",
              "                style=\"display:none;\">\n",
              "\n",
              "<svg xmlns=\"http://www.w3.org/2000/svg\" height=\"24px\"viewBox=\"0 0 24 24\"\n",
              "     width=\"24px\">\n",
              "    <g>\n",
              "        <path d=\"M19 3H5c-1.1 0-2 .9-2 2v14c0 1.1.9 2 2 2h14c1.1 0 2-.9 2-2V5c0-1.1-.9-2-2-2zM9 17H7v-7h2v7zm4 0h-2V7h2v10zm4 0h-2v-4h2v4z\"/>\n",
              "    </g>\n",
              "</svg>\n",
              "      </button>\n",
              "\n",
              "<style>\n",
              "  .colab-df-quickchart {\n",
              "      --bg-color: #E8F0FE;\n",
              "      --fill-color: #1967D2;\n",
              "      --hover-bg-color: #E2EBFA;\n",
              "      --hover-fill-color: #174EA6;\n",
              "      --disabled-fill-color: #AAA;\n",
              "      --disabled-bg-color: #DDD;\n",
              "  }\n",
              "\n",
              "  [theme=dark] .colab-df-quickchart {\n",
              "      --bg-color: #3B4455;\n",
              "      --fill-color: #D2E3FC;\n",
              "      --hover-bg-color: #434B5C;\n",
              "      --hover-fill-color: #FFFFFF;\n",
              "      --disabled-bg-color: #3B4455;\n",
              "      --disabled-fill-color: #666;\n",
              "  }\n",
              "\n",
              "  .colab-df-quickchart {\n",
              "    background-color: var(--bg-color);\n",
              "    border: none;\n",
              "    border-radius: 50%;\n",
              "    cursor: pointer;\n",
              "    display: none;\n",
              "    fill: var(--fill-color);\n",
              "    height: 32px;\n",
              "    padding: 0;\n",
              "    width: 32px;\n",
              "  }\n",
              "\n",
              "  .colab-df-quickchart:hover {\n",
              "    background-color: var(--hover-bg-color);\n",
              "    box-shadow: 0 1px 2px rgba(60, 64, 67, 0.3), 0 1px 3px 1px rgba(60, 64, 67, 0.15);\n",
              "    fill: var(--button-hover-fill-color);\n",
              "  }\n",
              "\n",
              "  .colab-df-quickchart-complete:disabled,\n",
              "  .colab-df-quickchart-complete:disabled:hover {\n",
              "    background-color: var(--disabled-bg-color);\n",
              "    fill: var(--disabled-fill-color);\n",
              "    box-shadow: none;\n",
              "  }\n",
              "\n",
              "  .colab-df-spinner {\n",
              "    border: 2px solid var(--fill-color);\n",
              "    border-color: transparent;\n",
              "    border-bottom-color: var(--fill-color);\n",
              "    animation:\n",
              "      spin 1s steps(1) infinite;\n",
              "  }\n",
              "\n",
              "  @keyframes spin {\n",
              "    0% {\n",
              "      border-color: transparent;\n",
              "      border-bottom-color: var(--fill-color);\n",
              "      border-left-color: var(--fill-color);\n",
              "    }\n",
              "    20% {\n",
              "      border-color: transparent;\n",
              "      border-left-color: var(--fill-color);\n",
              "      border-top-color: var(--fill-color);\n",
              "    }\n",
              "    30% {\n",
              "      border-color: transparent;\n",
              "      border-left-color: var(--fill-color);\n",
              "      border-top-color: var(--fill-color);\n",
              "      border-right-color: var(--fill-color);\n",
              "    }\n",
              "    40% {\n",
              "      border-color: transparent;\n",
              "      border-right-color: var(--fill-color);\n",
              "      border-top-color: var(--fill-color);\n",
              "    }\n",
              "    60% {\n",
              "      border-color: transparent;\n",
              "      border-right-color: var(--fill-color);\n",
              "    }\n",
              "    80% {\n",
              "      border-color: transparent;\n",
              "      border-right-color: var(--fill-color);\n",
              "      border-bottom-color: var(--fill-color);\n",
              "    }\n",
              "    90% {\n",
              "      border-color: transparent;\n",
              "      border-bottom-color: var(--fill-color);\n",
              "    }\n",
              "  }\n",
              "</style>\n",
              "\n",
              "      <script>\n",
              "        async function quickchart(key) {\n",
              "          const quickchartButtonEl =\n",
              "            document.querySelector('#' + key + ' button');\n",
              "          quickchartButtonEl.disabled = true;  // To prevent multiple clicks.\n",
              "          quickchartButtonEl.classList.add('colab-df-spinner');\n",
              "          try {\n",
              "            const charts = await google.colab.kernel.invokeFunction(\n",
              "                'suggestCharts', [key], {});\n",
              "          } catch (error) {\n",
              "            console.error('Error during call to suggestCharts:', error);\n",
              "          }\n",
              "          quickchartButtonEl.classList.remove('colab-df-spinner');\n",
              "          quickchartButtonEl.classList.add('colab-df-quickchart-complete');\n",
              "        }\n",
              "        (() => {\n",
              "          let quickchartButtonEl =\n",
              "            document.querySelector('#df-d6323951-fa65-4505-b1b1-bc079ce1d974 button');\n",
              "          quickchartButtonEl.style.display =\n",
              "            google.colab.kernel.accessAllowed ? 'block' : 'none';\n",
              "        })();\n",
              "      </script>\n",
              "    </div>\n",
              "\n",
              "    </div>\n",
              "  </div>\n"
            ],
            "application/vnd.google.colaboratory.intrinsic+json": {
              "type": "dataframe",
              "summary": "{\n  \"name\": \"df1\",\n  \"rows\": 8,\n  \"fields\": [\n    {\n      \"column\": \"Marks\",\n      \"properties\": {\n        \"dtype\": \"number\",\n        \"std\": 38.12113492488428,\n        \"min\": 5.6421036266035856,\n        \"max\": 96.0,\n        \"num_unique_values\": 8,\n        \"samples\": [\n          89.5,\n          92.0,\n          10.0\n        ],\n        \"semantic_type\": \"\",\n        \"description\": \"\"\n      }\n    }\n  ]\n}"
            }
          },
          "metadata": {},
          "execution_count": 45
        }
      ]
    },
    {
      "cell_type": "code",
      "source": [
        "#7. FIND UNIQUE VALUES FROM GENDER COLUMN\n",
        "df1.Gender.unique()"
      ],
      "metadata": {
        "id": "Ft9wxFyC0hil",
        "colab": {
          "base_uri": "https://localhost:8080/"
        },
        "outputId": "218d461d-9427-4b9e-b3a8-90279abede67"
      },
      "execution_count": null,
      "outputs": [
        {
          "output_type": "execute_result",
          "data": {
            "text/plain": [
              "array(['Female', 'Male'], dtype=object)"
            ]
          },
          "metadata": {},
          "execution_count": 46
        }
      ]
    },
    {
      "cell_type": "code",
      "source": [
        "#8. DISPLAY COUNT OF UNIQUE VALUES\n",
        "df1.Gender.value_counts()"
      ],
      "metadata": {
        "id": "iYOw7qJn09_r",
        "colab": {
          "base_uri": "https://localhost:8080/",
          "height": 178
        },
        "outputId": "559462d6-181e-463c-acd9-b90d219bb5af"
      },
      "execution_count": null,
      "outputs": [
        {
          "output_type": "execute_result",
          "data": {
            "text/plain": [
              "Gender\n",
              "Female    5\n",
              "Male      5\n",
              "Name: count, dtype: int64"
            ],
            "text/html": [
              "<div>\n",
              "<style scoped>\n",
              "    .dataframe tbody tr th:only-of-type {\n",
              "        vertical-align: middle;\n",
              "    }\n",
              "\n",
              "    .dataframe tbody tr th {\n",
              "        vertical-align: top;\n",
              "    }\n",
              "\n",
              "    .dataframe thead th {\n",
              "        text-align: right;\n",
              "    }\n",
              "</style>\n",
              "<table border=\"1\" class=\"dataframe\">\n",
              "  <thead>\n",
              "    <tr style=\"text-align: right;\">\n",
              "      <th></th>\n",
              "      <th>count</th>\n",
              "    </tr>\n",
              "    <tr>\n",
              "      <th>Gender</th>\n",
              "      <th></th>\n",
              "    </tr>\n",
              "  </thead>\n",
              "  <tbody>\n",
              "    <tr>\n",
              "      <th>Female</th>\n",
              "      <td>5</td>\n",
              "    </tr>\n",
              "    <tr>\n",
              "      <th>Male</th>\n",
              "      <td>5</td>\n",
              "    </tr>\n",
              "  </tbody>\n",
              "</table>\n",
              "</div><br><label><b>dtype:</b> int64</label>"
            ]
          },
          "metadata": {},
          "execution_count": 47
        }
      ]
    },
    {
      "cell_type": "code",
      "source": [
        "#9. FIND NO. OF UNIQUE VALUES IN GENDER COLUMN\n",
        "df1.Gender.nunique()"
      ],
      "metadata": {
        "id": "e21mkq7V044O",
        "colab": {
          "base_uri": "https://localhost:8080/"
        },
        "outputId": "9420c7df-b94c-4ad2-a58c-500b0c7be63c"
      },
      "execution_count": null,
      "outputs": [
        {
          "output_type": "execute_result",
          "data": {
            "text/plain": [
              "2"
            ]
          },
          "metadata": {},
          "execution_count": 48
        }
      ]
    },
    {
      "cell_type": "code",
      "source": [
        "#10. FIND NO. OF STUDENT HAVING MARKS BETWEEN 91 TO 100(INCLUSIVE) USING BETWEEN METHOD\n",
        "df1[(df1[\"Marks\"] >= 91) & (df1['Marks'] <= 100) ]"
      ],
      "metadata": {
        "id": "rS6B1hZM1jRN",
        "colab": {
          "base_uri": "https://localhost:8080/",
          "height": 238
        },
        "outputId": "2c93aadb-307a-4b96-957c-665057b238d2"
      },
      "execution_count": null,
      "outputs": [
        {
          "output_type": "execute_result",
          "data": {
            "text/plain": [
              "     Name  Marks  Gender\n",
              "0   Alice     93  Female\n",
              "3   Diana     91  Female\n",
              "4   Ethan     93    Male\n",
              "5   Fiona     95  Female\n",
              "6  George     96    Male\n",
              "8   Isaac     94    Male"
            ],
            "text/html": [
              "\n",
              "  <div id=\"df-563ca7c0-44eb-498e-bca2-325fc4339d96\" class=\"colab-df-container\">\n",
              "    <div>\n",
              "<style scoped>\n",
              "    .dataframe tbody tr th:only-of-type {\n",
              "        vertical-align: middle;\n",
              "    }\n",
              "\n",
              "    .dataframe tbody tr th {\n",
              "        vertical-align: top;\n",
              "    }\n",
              "\n",
              "    .dataframe thead th {\n",
              "        text-align: right;\n",
              "    }\n",
              "</style>\n",
              "<table border=\"1\" class=\"dataframe\">\n",
              "  <thead>\n",
              "    <tr style=\"text-align: right;\">\n",
              "      <th></th>\n",
              "      <th>Name</th>\n",
              "      <th>Marks</th>\n",
              "      <th>Gender</th>\n",
              "    </tr>\n",
              "  </thead>\n",
              "  <tbody>\n",
              "    <tr>\n",
              "      <th>0</th>\n",
              "      <td>Alice</td>\n",
              "      <td>93</td>\n",
              "      <td>Female</td>\n",
              "    </tr>\n",
              "    <tr>\n",
              "      <th>3</th>\n",
              "      <td>Diana</td>\n",
              "      <td>91</td>\n",
              "      <td>Female</td>\n",
              "    </tr>\n",
              "    <tr>\n",
              "      <th>4</th>\n",
              "      <td>Ethan</td>\n",
              "      <td>93</td>\n",
              "      <td>Male</td>\n",
              "    </tr>\n",
              "    <tr>\n",
              "      <th>5</th>\n",
              "      <td>Fiona</td>\n",
              "      <td>95</td>\n",
              "      <td>Female</td>\n",
              "    </tr>\n",
              "    <tr>\n",
              "      <th>6</th>\n",
              "      <td>George</td>\n",
              "      <td>96</td>\n",
              "      <td>Male</td>\n",
              "    </tr>\n",
              "    <tr>\n",
              "      <th>8</th>\n",
              "      <td>Isaac</td>\n",
              "      <td>94</td>\n",
              "      <td>Male</td>\n",
              "    </tr>\n",
              "  </tbody>\n",
              "</table>\n",
              "</div>\n",
              "    <div class=\"colab-df-buttons\">\n",
              "\n",
              "  <div class=\"colab-df-container\">\n",
              "    <button class=\"colab-df-convert\" onclick=\"convertToInteractive('df-563ca7c0-44eb-498e-bca2-325fc4339d96')\"\n",
              "            title=\"Convert this dataframe to an interactive table.\"\n",
              "            style=\"display:none;\">\n",
              "\n",
              "  <svg xmlns=\"http://www.w3.org/2000/svg\" height=\"24px\" viewBox=\"0 -960 960 960\">\n",
              "    <path d=\"M120-120v-720h720v720H120Zm60-500h600v-160H180v160Zm220 220h160v-160H400v160Zm0 220h160v-160H400v160ZM180-400h160v-160H180v160Zm440 0h160v-160H620v160ZM180-180h160v-160H180v160Zm440 0h160v-160H620v160Z\"/>\n",
              "  </svg>\n",
              "    </button>\n",
              "\n",
              "  <style>\n",
              "    .colab-df-container {\n",
              "      display:flex;\n",
              "      gap: 12px;\n",
              "    }\n",
              "\n",
              "    .colab-df-convert {\n",
              "      background-color: #E8F0FE;\n",
              "      border: none;\n",
              "      border-radius: 50%;\n",
              "      cursor: pointer;\n",
              "      display: none;\n",
              "      fill: #1967D2;\n",
              "      height: 32px;\n",
              "      padding: 0 0 0 0;\n",
              "      width: 32px;\n",
              "    }\n",
              "\n",
              "    .colab-df-convert:hover {\n",
              "      background-color: #E2EBFA;\n",
              "      box-shadow: 0px 1px 2px rgba(60, 64, 67, 0.3), 0px 1px 3px 1px rgba(60, 64, 67, 0.15);\n",
              "      fill: #174EA6;\n",
              "    }\n",
              "\n",
              "    .colab-df-buttons div {\n",
              "      margin-bottom: 4px;\n",
              "    }\n",
              "\n",
              "    [theme=dark] .colab-df-convert {\n",
              "      background-color: #3B4455;\n",
              "      fill: #D2E3FC;\n",
              "    }\n",
              "\n",
              "    [theme=dark] .colab-df-convert:hover {\n",
              "      background-color: #434B5C;\n",
              "      box-shadow: 0px 1px 3px 1px rgba(0, 0, 0, 0.15);\n",
              "      filter: drop-shadow(0px 1px 2px rgba(0, 0, 0, 0.3));\n",
              "      fill: #FFFFFF;\n",
              "    }\n",
              "  </style>\n",
              "\n",
              "    <script>\n",
              "      const buttonEl =\n",
              "        document.querySelector('#df-563ca7c0-44eb-498e-bca2-325fc4339d96 button.colab-df-convert');\n",
              "      buttonEl.style.display =\n",
              "        google.colab.kernel.accessAllowed ? 'block' : 'none';\n",
              "\n",
              "      async function convertToInteractive(key) {\n",
              "        const element = document.querySelector('#df-563ca7c0-44eb-498e-bca2-325fc4339d96');\n",
              "        const dataTable =\n",
              "          await google.colab.kernel.invokeFunction('convertToInteractive',\n",
              "                                                    [key], {});\n",
              "        if (!dataTable) return;\n",
              "\n",
              "        const docLinkHtml = 'Like what you see? Visit the ' +\n",
              "          '<a target=\"_blank\" href=https://colab.research.google.com/notebooks/data_table.ipynb>data table notebook</a>'\n",
              "          + ' to learn more about interactive tables.';\n",
              "        element.innerHTML = '';\n",
              "        dataTable['output_type'] = 'display_data';\n",
              "        await google.colab.output.renderOutput(dataTable, element);\n",
              "        const docLink = document.createElement('div');\n",
              "        docLink.innerHTML = docLinkHtml;\n",
              "        element.appendChild(docLink);\n",
              "      }\n",
              "    </script>\n",
              "  </div>\n",
              "\n",
              "\n",
              "    <div id=\"df-259991c6-58ec-4891-bbe2-c0b8f020431a\">\n",
              "      <button class=\"colab-df-quickchart\" onclick=\"quickchart('df-259991c6-58ec-4891-bbe2-c0b8f020431a')\"\n",
              "                title=\"Suggest charts\"\n",
              "                style=\"display:none;\">\n",
              "\n",
              "<svg xmlns=\"http://www.w3.org/2000/svg\" height=\"24px\"viewBox=\"0 0 24 24\"\n",
              "     width=\"24px\">\n",
              "    <g>\n",
              "        <path d=\"M19 3H5c-1.1 0-2 .9-2 2v14c0 1.1.9 2 2 2h14c1.1 0 2-.9 2-2V5c0-1.1-.9-2-2-2zM9 17H7v-7h2v7zm4 0h-2V7h2v10zm4 0h-2v-4h2v4z\"/>\n",
              "    </g>\n",
              "</svg>\n",
              "      </button>\n",
              "\n",
              "<style>\n",
              "  .colab-df-quickchart {\n",
              "      --bg-color: #E8F0FE;\n",
              "      --fill-color: #1967D2;\n",
              "      --hover-bg-color: #E2EBFA;\n",
              "      --hover-fill-color: #174EA6;\n",
              "      --disabled-fill-color: #AAA;\n",
              "      --disabled-bg-color: #DDD;\n",
              "  }\n",
              "\n",
              "  [theme=dark] .colab-df-quickchart {\n",
              "      --bg-color: #3B4455;\n",
              "      --fill-color: #D2E3FC;\n",
              "      --hover-bg-color: #434B5C;\n",
              "      --hover-fill-color: #FFFFFF;\n",
              "      --disabled-bg-color: #3B4455;\n",
              "      --disabled-fill-color: #666;\n",
              "  }\n",
              "\n",
              "  .colab-df-quickchart {\n",
              "    background-color: var(--bg-color);\n",
              "    border: none;\n",
              "    border-radius: 50%;\n",
              "    cursor: pointer;\n",
              "    display: none;\n",
              "    fill: var(--fill-color);\n",
              "    height: 32px;\n",
              "    padding: 0;\n",
              "    width: 32px;\n",
              "  }\n",
              "\n",
              "  .colab-df-quickchart:hover {\n",
              "    background-color: var(--hover-bg-color);\n",
              "    box-shadow: 0 1px 2px rgba(60, 64, 67, 0.3), 0 1px 3px 1px rgba(60, 64, 67, 0.15);\n",
              "    fill: var(--button-hover-fill-color);\n",
              "  }\n",
              "\n",
              "  .colab-df-quickchart-complete:disabled,\n",
              "  .colab-df-quickchart-complete:disabled:hover {\n",
              "    background-color: var(--disabled-bg-color);\n",
              "    fill: var(--disabled-fill-color);\n",
              "    box-shadow: none;\n",
              "  }\n",
              "\n",
              "  .colab-df-spinner {\n",
              "    border: 2px solid var(--fill-color);\n",
              "    border-color: transparent;\n",
              "    border-bottom-color: var(--fill-color);\n",
              "    animation:\n",
              "      spin 1s steps(1) infinite;\n",
              "  }\n",
              "\n",
              "  @keyframes spin {\n",
              "    0% {\n",
              "      border-color: transparent;\n",
              "      border-bottom-color: var(--fill-color);\n",
              "      border-left-color: var(--fill-color);\n",
              "    }\n",
              "    20% {\n",
              "      border-color: transparent;\n",
              "      border-left-color: var(--fill-color);\n",
              "      border-top-color: var(--fill-color);\n",
              "    }\n",
              "    30% {\n",
              "      border-color: transparent;\n",
              "      border-left-color: var(--fill-color);\n",
              "      border-top-color: var(--fill-color);\n",
              "      border-right-color: var(--fill-color);\n",
              "    }\n",
              "    40% {\n",
              "      border-color: transparent;\n",
              "      border-right-color: var(--fill-color);\n",
              "      border-top-color: var(--fill-color);\n",
              "    }\n",
              "    60% {\n",
              "      border-color: transparent;\n",
              "      border-right-color: var(--fill-color);\n",
              "    }\n",
              "    80% {\n",
              "      border-color: transparent;\n",
              "      border-right-color: var(--fill-color);\n",
              "      border-bottom-color: var(--fill-color);\n",
              "    }\n",
              "    90% {\n",
              "      border-color: transparent;\n",
              "      border-bottom-color: var(--fill-color);\n",
              "    }\n",
              "  }\n",
              "</style>\n",
              "\n",
              "      <script>\n",
              "        async function quickchart(key) {\n",
              "          const quickchartButtonEl =\n",
              "            document.querySelector('#' + key + ' button');\n",
              "          quickchartButtonEl.disabled = true;  // To prevent multiple clicks.\n",
              "          quickchartButtonEl.classList.add('colab-df-spinner');\n",
              "          try {\n",
              "            const charts = await google.colab.kernel.invokeFunction(\n",
              "                'suggestCharts', [key], {});\n",
              "          } catch (error) {\n",
              "            console.error('Error during call to suggestCharts:', error);\n",
              "          }\n",
              "          quickchartButtonEl.classList.remove('colab-df-spinner');\n",
              "          quickchartButtonEl.classList.add('colab-df-quickchart-complete');\n",
              "        }\n",
              "        (() => {\n",
              "          let quickchartButtonEl =\n",
              "            document.querySelector('#df-259991c6-58ec-4891-bbe2-c0b8f020431a button');\n",
              "          quickchartButtonEl.style.display =\n",
              "            google.colab.kernel.accessAllowed ? 'block' : 'none';\n",
              "        })();\n",
              "      </script>\n",
              "    </div>\n",
              "\n",
              "    </div>\n",
              "  </div>\n"
            ],
            "application/vnd.google.colaboratory.intrinsic+json": {
              "type": "dataframe",
              "summary": "{\n  \"name\": \"df1[(df1[\\\"Marks\\\"] >= 91) & (df1['Marks'] <= 100) ]\",\n  \"rows\": 6,\n  \"fields\": [\n    {\n      \"column\": \"Name\",\n      \"properties\": {\n        \"dtype\": \"string\",\n        \"num_unique_values\": 6,\n        \"samples\": [\n          \"Alice\",\n          \"Diana\",\n          \"Isaac\"\n        ],\n        \"semantic_type\": \"\",\n        \"description\": \"\"\n      }\n    },\n    {\n      \"column\": \"Marks\",\n      \"properties\": {\n        \"dtype\": \"number\",\n        \"std\": 1,\n        \"min\": 91,\n        \"max\": 96,\n        \"num_unique_values\": 5,\n        \"samples\": [\n          91,\n          94,\n          95\n        ],\n        \"semantic_type\": \"\",\n        \"description\": \"\"\n      }\n    },\n    {\n      \"column\": \"Gender\",\n      \"properties\": {\n        \"dtype\": \"category\",\n        \"num_unique_values\": 2,\n        \"samples\": [\n          \"Male\",\n          \"Female\"\n        ],\n        \"semantic_type\": \"\",\n        \"description\": \"\"\n      }\n    }\n  ]\n}"
            }
          },
          "metadata": {},
          "execution_count": 60
        }
      ]
    },
    {
      "cell_type": "code",
      "source": [
        "#11. FIND AVERAGE MARKS\n",
        "df1.Marks.mean()"
      ],
      "metadata": {
        "id": "t4vdgZc01vSM",
        "colab": {
          "base_uri": "https://localhost:8080/"
        },
        "outputId": "3c15d96d-61e7-4dd1-e4b0-16cd6a7d0ce8"
      },
      "execution_count": null,
      "outputs": [
        {
          "output_type": "execute_result",
          "data": {
            "text/plain": [
              "np.float64(89.5)"
            ]
          },
          "metadata": {},
          "execution_count": 62
        }
      ]
    },
    {
      "cell_type": "code",
      "source": [
        "#12. APPLY METHOD( marks /2) also floor division, display len of string\n",
        "HalfMark = df1.Marks.apply( lambda x: x/2)\n",
        "print(HalfMark)\n",
        "df1[\"HalfMarks\"] = HalfMark\n",
        "print(df1)"
      ],
      "metadata": {
        "id": "GnzUBCEq18JN",
        "colab": {
          "base_uri": "https://localhost:8080/"
        },
        "outputId": "84e19232-5d08-4bb5-f989-c53d7a9ea13c"
      },
      "execution_count": null,
      "outputs": [
        {
          "output_type": "stream",
          "name": "stdout",
          "text": [
            "0    46.5\n",
            "1    41.5\n",
            "2    41.0\n",
            "3    45.5\n",
            "4    46.5\n",
            "5    47.5\n",
            "6    48.0\n",
            "7    43.0\n",
            "8    47.0\n",
            "9    41.0\n",
            "Name: Marks, dtype: float64\n",
            "      Name  Marks  Gender  BinaryGender  HalfMarks\n",
            "0    Alice     93  Female             0       46.5\n",
            "1      Bob     83    Male             1       41.5\n",
            "2  Charlie     82    Male             1       41.0\n",
            "3    Diana     91  Female             0       45.5\n",
            "4    Ethan     93    Male             1       46.5\n",
            "5    Fiona     95  Female             0       47.5\n",
            "6   George     96    Male             1       48.0\n",
            "7   Hannah     86  Female             0       43.0\n",
            "8    Isaac     94    Male             1       47.0\n",
            "9    Julia     82  Female             0       41.0\n"
          ]
        }
      ]
    },
    {
      "cell_type": "code",
      "source": [
        "#13. MAP FUNTION male ->1 ,  female ->0\n",
        "df1[\"BinaryGender\"]= df1.Gender.map( { \"Male\" : 1, \"Female\": 0 })\n",
        "print(df1)"
      ],
      "metadata": {
        "id": "vb0LfJCz2JsF",
        "colab": {
          "base_uri": "https://localhost:8080/"
        },
        "outputId": "593d0917-55b6-42d6-86a5-38d4760966f0"
      },
      "execution_count": null,
      "outputs": [
        {
          "output_type": "stream",
          "name": "stdout",
          "text": [
            "      Name  Marks  Gender  BinaryGender\n",
            "0    Alice     93  Female             0\n",
            "1      Bob     83    Male             1\n",
            "2  Charlie     82    Male             1\n",
            "3    Diana     91  Female             0\n",
            "4    Ethan     93    Male             1\n",
            "5    Fiona     95  Female             0\n",
            "6   George     96    Male             1\n",
            "7   Hannah     86  Female             0\n",
            "8    Isaac     94    Male             1\n",
            "9    Julia     82  Female             0\n"
          ]
        }
      ]
    },
    {
      "cell_type": "code",
      "source": [
        "#14. DROP COLUMN(S) inplace, axis\n",
        "print(df1)\n",
        "df1.drop([ \"HalfMarks\", \"BinaryGender\"], axis = 1, inplace = True)\n",
        "print(df1)\n"
      ],
      "metadata": {
        "id": "cHn8VDZb2vGz",
        "colab": {
          "base_uri": "https://localhost:8080/"
        },
        "outputId": "5b1035c2-87c4-4db1-9a69-14abcfc516e9"
      },
      "execution_count": null,
      "outputs": [
        {
          "output_type": "stream",
          "name": "stdout",
          "text": [
            "      Name  Marks  Gender  BinaryGender  HalfMarks\n",
            "0    Alice     93  Female             0       46.5\n",
            "1      Bob     83    Male             1       41.5\n",
            "2  Charlie     82    Male             1       41.0\n",
            "3    Diana     91  Female             0       45.5\n",
            "4    Ethan     93    Male             1       46.5\n",
            "5    Fiona     95  Female             0       47.5\n",
            "6   George     96    Male             1       48.0\n",
            "7   Hannah     86  Female             0       43.0\n",
            "8    Isaac     94    Male             1       47.0\n",
            "9    Julia     82  Female             0       41.0\n",
            "      Name  Marks  Gender\n",
            "0    Alice     93  Female\n",
            "1      Bob     83    Male\n",
            "2  Charlie     82    Male\n",
            "3    Diana     91  Female\n",
            "4    Ethan     93    Male\n",
            "5    Fiona     95  Female\n",
            "6   George     96    Male\n",
            "7   Hannah     86  Female\n",
            "8    Isaac     94    Male\n",
            "9    Julia     82  Female\n"
          ]
        }
      ]
    },
    {
      "cell_type": "code",
      "source": [
        "#15. PRINT THE NAME OF COLUMNS\n",
        "df1.columns"
      ],
      "metadata": {
        "id": "rxbunNNP3JVa",
        "colab": {
          "base_uri": "https://localhost:8080/"
        },
        "outputId": "16635448-67c7-49dc-ff90-981178cf70cc"
      },
      "execution_count": null,
      "outputs": [
        {
          "output_type": "execute_result",
          "data": {
            "text/plain": [
              "Index(['Name', 'Marks', 'Gender'], dtype='object')"
            ]
          },
          "metadata": {},
          "execution_count": 67
        }
      ]
    },
    {
      "cell_type": "code",
      "source": [
        "#16. SORT THE DATASET ACC. TO MARKS COLUMN\n",
        "df1= df1.sort_values( by = \"Marks\", ascending = True)\n",
        "print(df1)\n",
        "df1.index = np.arange(0,10)\n",
        "print(df1)\n"
      ],
      "metadata": {
        "id": "1QZhwPDN3Tkw",
        "colab": {
          "base_uri": "https://localhost:8080/"
        },
        "outputId": "e59ef9a3-df7f-48a9-fde9-9b5101d80bd0"
      },
      "execution_count": null,
      "outputs": [
        {
          "output_type": "stream",
          "name": "stdout",
          "text": [
            "      Name  Marks  Gender\n",
            "2  Charlie     82    Male\n",
            "9    Julia     82  Female\n",
            "1      Bob     83    Male\n",
            "7   Hannah     86  Female\n",
            "3    Diana     91  Female\n",
            "0    Alice     93  Female\n",
            "4    Ethan     93    Male\n",
            "8    Isaac     94    Male\n",
            "5    Fiona     95  Female\n",
            "6   George     96    Male\n",
            "      Name  Marks  Gender\n",
            "0  Charlie     82    Male\n",
            "1    Julia     82  Female\n",
            "2      Bob     83    Male\n",
            "3   Hannah     86  Female\n",
            "4    Diana     91  Female\n",
            "5    Alice     93  Female\n",
            "6    Ethan     93    Male\n",
            "7    Isaac     94    Male\n",
            "8    Fiona     95  Female\n",
            "9   George     96    Male\n"
          ]
        }
      ]
    },
    {
      "cell_type": "code",
      "source": [
        "#17. DISPLAY NAME & MARKS OF THE FEMALES STUDENT'S\n",
        "print(df1[df1[ \"Gender\"]== \"Female\"].loc[:,[\"Name\", \"Marks\"]])"
      ],
      "metadata": {
        "id": "skEJw7UQ3Y-q",
        "colab": {
          "base_uri": "https://localhost:8080/"
        },
        "outputId": "cfe214a8-1a46-4ce9-f45a-1955c8deefc1"
      },
      "execution_count": null,
      "outputs": [
        {
          "output_type": "stream",
          "name": "stdout",
          "text": [
            "     Name  Marks\n",
            "9   Julia     82\n",
            "7  Hannah     86\n",
            "3   Diana     91\n",
            "0   Alice     93\n",
            "5   Fiona     95\n"
          ]
        }
      ]
    }
  ],
  "metadata": {
    "colab": {
      "provenance": [],
      "toc_visible": true,
      "authorship_tag": "ABX9TyOedhuLK2OM1SkBmBuzQLLw",
      "include_colab_link": true
    },
    "kernelspec": {
      "display_name": "Python 3",
      "name": "python3"
    },
    "language_info": {
      "name": "python"
    }
  },
  "nbformat": 4,
  "nbformat_minor": 0
}
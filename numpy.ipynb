{
  "nbformat": 4,
  "nbformat_minor": 0,
  "metadata": {
    "colab": {
      "provenance": [],
      "authorship_tag": "ABX9TyNkPhMC9heCgE6PF1CBZ0hU",
      "include_colab_link": true
    },
    "kernelspec": {
      "name": "python3",
      "display_name": "Python 3"
    },
    "language_info": {
      "name": "python"
    }
  },
  "cells": [
    {
      "cell_type": "markdown",
      "metadata": {
        "id": "view-in-github",
        "colab_type": "text"
      },
      "source": [
        "<a href=\"https://colab.research.google.com/github/mohdnaved04/PYTHON/blob/main/numpy.ipynb\" target=\"_parent\"><img src=\"https://colab.research.google.com/assets/colab-badge.svg\" alt=\"Open In Colab\"/></a>"
      ]
    },
    {
      "cell_type": "code",
      "execution_count": null,
      "metadata": {
        "colab": {
          "base_uri": "https://localhost:8080/"
        },
        "id": "J_HGCmA_VH55",
        "outputId": "77939dec-cb4a-4221-e523-9202bbbf0179"
      },
      "outputs": [
        {
          "output_type": "stream",
          "name": "stdout",
          "text": [
            "Numpy is installed\n",
            "Array :  [1 2 3 4]\n",
            "<class 'numpy.ndarray'>\n",
            "List :  [1, 2, 3, 4]\n",
            "<class 'list'>\n"
          ]
        }
      ],
      "source": [
        "import numpy as np\n",
        "print(\"Numpy is installed\")\n",
        "\n",
        "x= np.array([1,2,3,4])\n",
        "print(\"Array : \" ,x)\n",
        "print(type(x))\n",
        "\n",
        "y= [1,2,3,4]\n",
        "print(\"List : \", y)\n",
        "print(type(y))\n",
        "\n",
        "#Here you outputs will defferent for array [1 2 3 4] and  for list itll be [1,2,3,4]"
      ]
    },
    {
      "cell_type": "code",
      "source": [],
      "metadata": {
        "id": "c4RXj-mJ9EEJ"
      },
      "execution_count": null,
      "outputs": []
    },
    {
      "cell_type": "code",
      "source": [
        "%timeit [j**4 for j in range(1,5)]\n",
        "# \"%timeit\" this funtion is used to show the time used for a loop to run\n"
      ],
      "metadata": {
        "colab": {
          "base_uri": "https://localhost:8080/"
        },
        "id": "WXYZYytygOab",
        "outputId": "870e9de3-3dbb-433f-e203-dd4f4b01b71d"
      },
      "execution_count": null,
      "outputs": [
        {
          "output_type": "stream",
          "name": "stdout",
          "text": [
            "1.78 µs ± 434 ns per loop (mean ± std. dev. of 7 runs, 1000000 loops each)\n"
          ]
        }
      ]
    },
    {
      "cell_type": "code",
      "source": [
        "import numpy as np\n",
        "%timeit np.arange(1,5)**4\n",
        "#arange create an array of evenly spaced values withinn speacific range"
      ],
      "metadata": {
        "id": "2mryAgrrZ0y1",
        "colab": {
          "base_uri": "https://localhost:8080/"
        },
        "outputId": "d6a7fb2e-b14d-4c07-e91f-4e92617226a5"
      },
      "execution_count": null,
      "outputs": [
        {
          "output_type": "stream",
          "name": "stdout",
          "text": [
            "2.72 µs ± 773 ns per loop (mean ± std. dev. of 7 runs, 100000 loops each)\n"
          ]
        }
      ]
    },
    {
      "cell_type": "code",
      "source": [
        "#creating an array\n",
        "\n",
        "import numpy as np\n",
        "a= np.array([1,2,3,4,5,6])\n",
        "print(a)"
      ],
      "metadata": {
        "colab": {
          "base_uri": "https://localhost:8080/"
        },
        "id": "dOr9XbIvprl6",
        "outputId": "6056565a-cacd-4a42-d051-790d5df7a400"
      },
      "execution_count": null,
      "outputs": [
        {
          "output_type": "stream",
          "name": "stdout",
          "text": [
            "[1 2 3 4 5 6]\n"
          ]
        }
      ]
    },
    {
      "cell_type": "code",
      "source": [
        "#list to array\n",
        "\n",
        "x= [1,2,3,4,5]\n",
        "y= np.array(x)\n",
        "y       #it'll run will show you the type of data it store\n",
        "print(type(y))"
      ],
      "metadata": {
        "colab": {
          "base_uri": "https://localhost:8080/"
        },
        "id": "ZhURODdgqUST",
        "outputId": "e8b8b56d-9547-4dd5-8f46-988788b7473f"
      },
      "execution_count": null,
      "outputs": [
        {
          "output_type": "stream",
          "name": "stdout",
          "text": [
            "<class 'numpy.ndarray'>\n"
          ]
        }
      ]
    },
    {
      "cell_type": "code",
      "source": [
        "#putting manual data in array\n",
        "\n",
        "import numpy as np\n",
        "\n",
        "l= []\n",
        "\n",
        "\n",
        "for i in range(5):\n",
        "  num= int(input(\"Enter no. to append: \"))\n",
        "  l.append(num)\n",
        "\n",
        "print(l)"
      ],
      "metadata": {
        "colab": {
          "base_uri": "https://localhost:8080/"
        },
        "id": "2WAV7weruopZ",
        "outputId": "8cffa8de-c83a-43a6-dddd-4ecb701f10b5"
      },
      "execution_count": null,
      "outputs": [
        {
          "output_type": "stream",
          "name": "stdout",
          "text": [
            "Enter no. to append: 1\n",
            "Enter no. to append: 2\n",
            "Enter no. to append: 3\n",
            "Enter no. to append: 4\n",
            "Enter no. to append: 5\n",
            "[1, 2, 3, 4, 5]\n"
          ]
        }
      ]
    },
    {
      "cell_type": "code",
      "source": [
        "#Defining different dimensions of the array\n",
        "import numpy as np\n",
        "\n",
        "'''no of elements in 2d or 3d constituents\n",
        "must be same otherwise there'll be an error'''\n",
        "\n",
        "l=[1,2,3,4,5]\n",
        "l2= [['a','ab'],['abc','abcd' ],['abcde','abcdef']]\n",
        "l3= [[[1.2],[2.3],[3.4]], [[4.5],[5.6],[6.7]], [[7.8],[8.9],[9.0]]]\n",
        "a=np.array(l)\n",
        "a2=np.array(l2)\n",
        "a3=np.array(l3)\n",
        "\n",
        "a\n",
        "print(a)\n",
        "print(type(a))\n",
        "print(a.ndim)\n",
        "\n",
        "a2\n",
        "print(a2)\n",
        "print(type(a2))\n",
        "print(a2.ndim)\n",
        "\n",
        "a3\n",
        "print(a3)\n",
        "print(type(a3))\n",
        "print(a3.ndim)\n",
        "\n",
        "\n"
      ],
      "metadata": {
        "colab": {
          "base_uri": "https://localhost:8080/"
        },
        "id": "VPHcN2UoyHpv",
        "outputId": "3db8c6cf-3a1b-47ad-a96d-78d16c988042"
      },
      "execution_count": null,
      "outputs": [
        {
          "output_type": "execute_result",
          "data": {
            "text/plain": [
              "array([1, 2, 3, 4, 5])"
            ]
          },
          "metadata": {},
          "execution_count": 39
        }
      ]
    },
    {
      "cell_type": "code",
      "source": [
        "#explicitly telling the dimension of array\n",
        "\n",
        "import numpy as np\n",
        "\n",
        "a= np.array([2,3,4,5,6], ndmin=5)\n",
        "print(a)\n",
        "print(a.ndim)"
      ],
      "metadata": {
        "colab": {
          "base_uri": "https://localhost:8080/"
        },
        "id": "W7epGFQt4NS2",
        "outputId": "324bd658-35f1-4bf7-9619-d7bb762ca399"
      },
      "execution_count": null,
      "outputs": [
        {
          "output_type": "stream",
          "name": "stdout",
          "text": [
            "[[[[[2 3 4 5 6]]]]]\n",
            "5\n"
          ]
        }
      ]
    },
    {
      "cell_type": "code",
      "source": [
        "#creating a zero array\n",
        "\n",
        "import numpy as np\n",
        "\n",
        "a=np.zeros(4)\n",
        "a2 = np.zeros((3,4))\n",
        "\n",
        "print(a)\n",
        "print(a2)"
      ],
      "metadata": {
        "colab": {
          "base_uri": "https://localhost:8080/"
        },
        "id": "ex7eod25Ag4t",
        "outputId": "e9ea0aa4-7333-40ca-c947-3f3807c46262"
      },
      "execution_count": null,
      "outputs": [
        {
          "output_type": "stream",
          "name": "stdout",
          "text": [
            "[0. 0. 0. 0.]\n",
            "[[0. 0. 0. 0.]\n",
            " [0. 0. 0. 0.]\n",
            " [0. 0. 0. 0.]]\n"
          ]
        }
      ]
    },
    {
      "cell_type": "code",
      "source": [
        "#creating a once array\n",
        "\n",
        "import numpy as np\n",
        "\n",
        "a= np.ones(4)\n",
        "a2 = np.ones((3,4))\n",
        "print(a)\n",
        "print(a2)"
      ],
      "metadata": {
        "colab": {
          "base_uri": "https://localhost:8080/"
        },
        "id": "pKycsfTJC6yc",
        "outputId": "6227b466-3f86-47fe-fb4f-4f6cfce9ace4"
      },
      "execution_count": null,
      "outputs": [
        {
          "output_type": "stream",
          "name": "stdout",
          "text": [
            "[1. 1. 1. 1.]\n",
            "[[1. 1. 1. 1.]\n",
            " [1. 1. 1. 1.]\n",
            " [1. 1. 1. 1.]]\n"
          ]
        }
      ]
    },
    {
      "cell_type": "code",
      "source": [
        "#creating a empty array\n",
        "\n",
        "a= np.empty(4)\n",
        "print(a)\n",
        "\n",
        "a2 = np.empty((2,3))\n",
        "print(a2)"
      ],
      "metadata": {
        "colab": {
          "base_uri": "https://localhost:8080/"
        },
        "id": "ZGVYShdMD1Ue",
        "outputId": "566db00b-8005-4cf0-ff28-72f2a7508375"
      },
      "execution_count": null,
      "outputs": [
        {
          "output_type": "stream",
          "name": "stdout",
          "text": [
            "[1. 1. 1. 1.]\n",
            "[[4.9e-324 9.9e-324 1.5e-323]\n",
            " [2.0e-323 2.5e-323 3.0e-323]]\n"
          ]
        }
      ]
    },
    {
      "cell_type": "code",
      "source": [
        "#creating an array of range\n",
        "\n",
        "import  numpy as np\n",
        "\n",
        "a= np.arange(3)\n",
        "print(a)\n",
        "\n",
        "a2= np.arange(2,14)\n",
        "print(a2)\n",
        "\n"
      ],
      "metadata": {
        "colab": {
          "base_uri": "https://localhost:8080/"
        },
        "id": "a6olgCcTEnDj",
        "outputId": "61b31c94-38fe-4ffb-b0d4-9541c1944aa8"
      },
      "execution_count": null,
      "outputs": [
        {
          "output_type": "stream",
          "name": "stdout",
          "text": [
            "[0 1 2]\n",
            "[ 2  3  4  5  6  7  8  9 10 11 12 13]\n",
            "2\n"
          ]
        }
      ]
    },
    {
      "cell_type": "code",
      "source": [
        "#creating an diagonal array\n",
        "\n",
        "import numpy as np\n",
        "\n",
        "a= np.eye(3)\n",
        "print(a)\n",
        "\n",
        "a2= np.eye(3,4)\n",
        "print(a2)\n",
        "print(a2.ndim)"
      ],
      "metadata": {
        "colab": {
          "base_uri": "https://localhost:8080/"
        },
        "id": "A1DrM5s2G0NE",
        "outputId": "b4907d81-5eec-4594-9d28-4f9b07e9f39e"
      },
      "execution_count": null,
      "outputs": [
        {
          "output_type": "stream",
          "name": "stdout",
          "text": [
            "[[1. 0. 0.]\n",
            " [0. 1. 0.]\n",
            " [0. 0. 1.]]\n",
            "[[1. 0. 0. 0.]\n",
            " [0. 1. 0. 0.]\n",
            " [0. 0. 1. 0.]]\n",
            "2\n"
          ]
        }
      ]
    },
    {
      "cell_type": "code",
      "source": [
        "#creating an array of linespace\n",
        "\n",
        "import numpy as np\n",
        "\n",
        "a= np.linspace(1,10,num=10)\n",
        "print(a)"
      ],
      "metadata": {
        "colab": {
          "base_uri": "https://localhost:8080/"
        },
        "id": "uKVwnRWoHIoC",
        "outputId": "73888a1c-91a8-4e7d-d8ad-e160c7269d1b"
      },
      "execution_count": null,
      "outputs": [
        {
          "output_type": "stream",
          "name": "stdout",
          "text": [
            "[ 1.  2.  3.  4.  5.  6.  7.  8.  9. 10.]\n"
          ]
        }
      ]
    },
    {
      "cell_type": "code",
      "source": [
        "#Using random funtion in numpy\n",
        "\n",
        "import numpy as np\n",
        "\n",
        "var= np.random.rand(4)\n",
        "print(var)\n",
        "\n",
        "var2= np.random.rand(2,5)\n",
        "print(var2)"
      ],
      "metadata": {
        "id": "SX2UHrMWR1ze",
        "colab": {
          "base_uri": "https://localhost:8080/"
        },
        "outputId": "7c3b080d-86e4-4897-cd8a-ba0c0e074ca0"
      },
      "execution_count": null,
      "outputs": [
        {
          "output_type": "stream",
          "name": "stdout",
          "text": [
            "[0.78113698 0.32790419 0.80348915 0.93569149]\n",
            "[[0.47821429 0.88890678 0.58102353 0.03545652 0.95663913]\n",
            " [0.00358516 0.64092004 0.3696007  0.92172622 0.94343369]]\n"
          ]
        }
      ]
    },
    {
      "cell_type": "code",
      "source": [
        "#usign randn : gives number close to zero maybe negative\n",
        "\n",
        "import numpy as np\n",
        "\n",
        "var= np.random.randn(4)\n",
        "print(var)\n",
        "\n",
        "var2= np.random.randn(2,5)\n",
        "print(var2)"
      ],
      "metadata": {
        "colab": {
          "base_uri": "https://localhost:8080/"
        },
        "id": "pBZQKmBxtRk3",
        "outputId": "284a24f5-0144-43d3-afdb-b18e4975ff9f"
      },
      "execution_count": null,
      "outputs": [
        {
          "output_type": "stream",
          "name": "stdout",
          "text": [
            "[ 0.41283386 -1.86577917 -0.54750319 -0.71188695]\n",
            "[[-1.07303324 -0.35307892  0.40101647  0.0559062   0.84962455]\n",
            " [-0.0263885  -0.31072243  0.16170368 -0.13511802  0.28610442]]\n"
          ]
        }
      ]
    },
    {
      "cell_type": "code",
      "source": [
        "#usign ranf: gives one open and a close interval answer\n",
        "\n",
        "import numpy as np\n",
        "\n",
        "var= np.random.ranf(4)\n",
        "print(var)"
      ],
      "metadata": {
        "colab": {
          "base_uri": "https://localhost:8080/"
        },
        "id": "I_plrwAyv1hn",
        "outputId": "19edfeab-709d-4be4-ba5d-027c2e095116"
      },
      "execution_count": null,
      "outputs": [
        {
          "output_type": "stream",
          "name": "stdout",
          "text": [
            "[0.27157516 0.89747481 0.97187062 0.79252332]\n"
          ]
        }
      ]
    },
    {
      "cell_type": "code",
      "source": [
        "#usign randint: give random number withing given range\n",
        "\n",
        "import numpy as np\n",
        "\n",
        "var= np.random.randint(1,10)\n",
        "print(var)\n",
        "\n",
        "var2= np.random.randint(1,10,5)\n",
        "print(var2)"
      ],
      "metadata": {
        "colab": {
          "base_uri": "https://localhost:8080/"
        },
        "id": "1yJ6BCNnwRkW",
        "outputId": "425e5529-2879-483f-daa4-07bf38c09628"
      },
      "execution_count": null,
      "outputs": [
        {
          "output_type": "stream",
          "name": "stdout",
          "text": [
            "1\n",
            "[9 6 8 4 9]\n"
          ]
        }
      ]
    },
    {
      "cell_type": "code",
      "source": [
        "#DATA TYPES\n",
        "\n",
        "import numpy as np\n",
        "\n",
        "x= np.array([1,2,3,4])\n",
        "print(type(x))\n",
        "print(\"Data type: \", x.dtype)"
      ],
      "metadata": {
        "colab": {
          "base_uri": "https://localhost:8080/"
        },
        "id": "uCpnAs4S24jG",
        "outputId": "6c0a0f0f-ec7e-40ab-89d1-f3058b2be39b"
      },
      "execution_count": null,
      "outputs": [
        {
          "output_type": "stream",
          "name": "stdout",
          "text": [
            "<class 'numpy.ndarray'>\n",
            "Data type:  int64\n"
          ]
        }
      ]
    },
    {
      "cell_type": "code",
      "source": [
        "#DATA TYPES\n",
        "\n",
        "import numpy as np\n",
        "\n",
        "y= np.array([1.1,1.2,1.3,1.4])\n",
        "print(type(y))\n",
        "print(\"Data type: \", y.dtype)"
      ],
      "metadata": {
        "colab": {
          "base_uri": "https://localhost:8080/"
        },
        "id": "liyocKTK3wN9",
        "outputId": "71a75bb9-844c-4ed0-cc3b-e119295af6a4"
      },
      "execution_count": null,
      "outputs": [
        {
          "output_type": "stream",
          "name": "stdout",
          "text": [
            "<class 'numpy.ndarray'>\n",
            "Data type:  float64\n"
          ]
        }
      ]
    },
    {
      "cell_type": "code",
      "source": [
        "#DATA TYPES\n",
        "\n",
        "import numpy as np\n",
        "\n",
        "y= np.array(['a','b','c','d'])\n",
        "print(type(y))\n",
        "print(\"Data type: \", y.dtype)"
      ],
      "metadata": {
        "colab": {
          "base_uri": "https://localhost:8080/"
        },
        "id": "opK6368p38Db",
        "outputId": "ed5d9107-3ee4-4cd7-b17d-24c66b98bd3f"
      },
      "execution_count": null,
      "outputs": [
        {
          "output_type": "stream",
          "name": "stdout",
          "text": [
            "<class 'numpy.ndarray'>\n",
            "Data type:  <U1\n"
          ]
        }
      ]
    },
    {
      "cell_type": "code",
      "source": [
        "#DATA TYPES\n",
        "\n",
        "import numpy as np\n",
        "\n",
        "y= np.array([\"Akash\",\"Amar\", \"Suraj\"])\n",
        "print(type(y))\n",
        "print(\"Data type: \", y.dtype)"
      ],
      "metadata": {
        "colab": {
          "base_uri": "https://localhost:8080/"
        },
        "id": "T73B4Ewl4DIM",
        "outputId": "eda46871-025b-42ec-8d07-2754c8d75463"
      },
      "execution_count": null,
      "outputs": [
        {
          "output_type": "stream",
          "name": "stdout",
          "text": [
            "<class 'numpy.ndarray'>\n",
            "Data type:  <U5\n"
          ]
        }
      ]
    },
    {
      "cell_type": "code",
      "source": [
        "#DATA TYPES\n",
        "\n",
        "import numpy as np\n",
        "\n",
        "y= np.array([\"Akash\",\"Amar\", \"Suraj\",1,2,3,1.2,1,'a'])\n",
        "print(type(y))\n",
        "print(\"Data type: \", y.dtype)"
      ],
      "metadata": {
        "colab": {
          "base_uri": "https://localhost:8080/"
        },
        "id": "Y0s4Gt6G4XGE",
        "outputId": "f8264a73-6098-45e7-dd98-40c5b3b715dc"
      },
      "execution_count": null,
      "outputs": [
        {
          "output_type": "stream",
          "name": "stdout",
          "text": [
            "<class 'numpy.ndarray'>\n",
            "Data type:  <U32\n"
          ]
        }
      ]
    },
    {
      "cell_type": "code",
      "source": [
        "#DATA TYPES\n",
        "\n",
        "import numpy as np\n",
        "\n",
        "x= np.array([1,2,3,4], dtype= np.int8)\n",
        "print(type(x))\n",
        "print(\"Data type: \", x.dtype)"
      ],
      "metadata": {
        "colab": {
          "base_uri": "https://localhost:8080/"
        },
        "id": "Od-yTTtv5Vmu",
        "outputId": "5baada10-f2e2-467d-ab2f-bd11878c3762"
      },
      "execution_count": null,
      "outputs": [
        {
          "output_type": "stream",
          "name": "stdout",
          "text": [
            "<class 'numpy.ndarray'>\n",
            "Data type:  int8\n"
          ]
        }
      ]
    },
    {
      "cell_type": "code",
      "source": [
        "#changing data type\n",
        "\n",
        "import numpy as np\n",
        "\n",
        "x= np.array([1,2,3,4], dtype= \"f\")\n",
        "print(type(x))\n",
        "print(\"Data type: \", x.dtype)"
      ],
      "metadata": {
        "colab": {
          "base_uri": "https://localhost:8080/"
        },
        "id": "xbUfNNrtSd1D",
        "outputId": "a8750111-6ca5-489a-c850-3cd114d74247"
      },
      "execution_count": null,
      "outputs": [
        {
          "output_type": "stream",
          "name": "stdout",
          "text": [
            "<class 'numpy.ndarray'>\n",
            "Data type:  float32\n"
          ]
        }
      ]
    },
    {
      "cell_type": "code",
      "source": [
        "#changing data type\n",
        "\n",
        "import numpy as np\n",
        "\n",
        "\n",
        "x= np.array([1,2,3,4])\n",
        "new= np.float32(x)\n",
        "new_one= np.int_(new)\n",
        "\n",
        "print(type(new))\n",
        "print(type(x))\n",
        "print(type(new_one))\n",
        "\n",
        "print(\"Data type: \", x.dtype)\n",
        "print(\"Data type: \", new.dtype)\n",
        "print(\"Data type: \", new_one.dtype)\n",
        "\n",
        "print(x)\n",
        "print(new)\n",
        "print(new_one)"
      ],
      "metadata": {
        "colab": {
          "base_uri": "https://localhost:8080/"
        },
        "id": "a1cRU8_yXX_c",
        "outputId": "35e00781-015a-4871-b88b-95e47fd101c8"
      },
      "execution_count": null,
      "outputs": [
        {
          "output_type": "stream",
          "name": "stdout",
          "text": [
            "<class 'numpy.ndarray'>\n",
            "<class 'numpy.ndarray'>\n",
            "<class 'numpy.ndarray'>\n",
            "Data type:  int64\n",
            "Data type:  float32\n",
            "Data type:  int64\n",
            "[1 2 3 4]\n",
            "[1. 2. 3. 4.]\n",
            "[1 2 3 4]\n"
          ]
        }
      ]
    },
    {
      "cell_type": "code",
      "source": [
        "import numpy as np\n",
        "\n",
        "\n",
        "x= np.array([1,2,3,4])\n",
        "new_1= x.astype(float)\n",
        "\n",
        "print(x)\n",
        "print(new_1)"
      ],
      "metadata": {
        "colab": {
          "base_uri": "https://localhost:8080/"
        },
        "id": "0GCLRuGpZmdD",
        "outputId": "108edb4a-2c52-412a-c1e0-5ea9a07b16df"
      },
      "execution_count": null,
      "outputs": [
        {
          "output_type": "stream",
          "name": "stdout",
          "text": [
            "[1 2 3 4]\n",
            "[1. 2. 3. 4.]\n"
          ]
        }
      ]
    },
    {
      "cell_type": "code",
      "source": [
        "''' There are several ways to convert a data type of a array such as\n",
        "1.\n",
        "x= np.array([1,2,3,4])\n",
        "new_1= x.astype(float)\n",
        "\n",
        "2.\n",
        "x= np.array([1,2,3,4])\n",
        "new= np.float32(x)\n",
        "new_one= np.int_(new)\n",
        "\n",
        "\n",
        "print(\"Data type: \", x.dtype)\n",
        "print(\"Data type: \", new.dtype)\n",
        "print(\"Data type: \", new_one.dtype)\n",
        "\n",
        "3.\n",
        "x= np.array([1,2,3,4], dtype= np.int8)\n"
      ],
      "metadata": {
        "id": "G9FA7aW7aAWy"
      },
      "execution_count": null,
      "outputs": []
    },
    {
      "cell_type": "code",
      "source": [
        "#Arithmatic operations\n",
        "\n",
        "import numpy as np\n",
        "\n",
        "#ADDITION OF SCALER INTO ARRAY\n",
        "var= np.array([1,2,3,4])\n",
        "\n",
        "#var2= var +3\n",
        "#var1= var-3\n",
        "var1= np.subtract(var,3)\n",
        "var2= np.add(var,3)\n",
        "\n",
        "print(var1)\n",
        "print(var2)\n"
      ],
      "metadata": {
        "colab": {
          "base_uri": "https://localhost:8080/"
        },
        "id": "89UJX0HCXkhz",
        "outputId": "8c3b1b0c-30f4-424f-b6b1-287d5d97010f"
      },
      "execution_count": null,
      "outputs": [
        {
          "output_type": "stream",
          "name": "stdout",
          "text": [
            "[-2 -1  0  1]\n",
            "[4 5 6 7]\n"
          ]
        }
      ]
    },
    {
      "cell_type": "code",
      "source": [
        "#ADDITION/SUBTRACTION OF TWO MATRICESS\n",
        "\n",
        "import numpy as np\n",
        "\n",
        "x= np.array([1,2,3,4])\n",
        "y= np.array([1,2,3,4])\n",
        "\n",
        "#added= x+y\n",
        "#subtract= x-y\n",
        "added= np.add(x,y)\n",
        "subtract= np.subtract(x,y)\n",
        "\n",
        "print(\"Addition of matrices: \",added)\n",
        "print(\"Subtraction of matrices: \",subtract)"
      ],
      "metadata": {
        "colab": {
          "base_uri": "https://localhost:8080/"
        },
        "id": "Mg5qTNCXdHBk",
        "outputId": "1fb0cb2f-957d-49a8-8e02-611e61c99453"
      },
      "execution_count": null,
      "outputs": [
        {
          "output_type": "stream",
          "name": "stdout",
          "text": [
            "Addition of matrices:  [2 4 6 8]\n",
            "Subtraction of matrices:  [0 0 0 0]\n"
          ]
        }
      ]
    },
    {
      "cell_type": "code",
      "source": [
        "#Multiplicaton/Division of scaler with matrix\n",
        "\n",
        "import numpy as np\n",
        "\n",
        "var= np.array([1,2,3,4])\n",
        "#var1= var*3\n",
        "#var2= var/3\n",
        "var1 = np.multiply(var,3)\n",
        "var2= np.divide(var,3)\n",
        "print(var1)\n",
        "print(var2)\n"
      ],
      "metadata": {
        "colab": {
          "base_uri": "https://localhost:8080/"
        },
        "id": "VVarb_6Zd4ly",
        "outputId": "622af769-824f-40c5-9f00-1919a81f3c43"
      },
      "execution_count": null,
      "outputs": [
        {
          "output_type": "stream",
          "name": "stdout",
          "text": [
            "[ 3  6  9 12]\n",
            "[0.33333333 0.66666667 1.         1.33333333]\n"
          ]
        }
      ]
    },
    {
      "cell_type": "code",
      "source": [
        "#using modulus in array\n",
        "\n",
        "import numpy as np\n",
        "\n",
        "var= np.array([1,2,3,4])\n",
        "#var1= var%3\n",
        "var1= np.mod(var,3)\n",
        "\n",
        "print(var)\n",
        "print(var1)"
      ],
      "metadata": {
        "colab": {
          "base_uri": "https://localhost:8080/"
        },
        "id": "CxtlpFjEeXcj",
        "outputId": "0c380f19-87ac-49b5-90f0-420580a1643b"
      },
      "execution_count": null,
      "outputs": [
        {
          "output_type": "stream",
          "name": "stdout",
          "text": [
            "[1 2 3 4]\n",
            "[1 2 0 1]\n"
          ]
        }
      ]
    },
    {
      "cell_type": "code",
      "source": [
        "#using power and reciprocal funtion in numpy\n",
        "import numpy as np\n",
        "\n",
        "var= np.array([1,2,3,4])\n",
        "\n",
        "var1= var**2\n",
        "var2= np.power(var,2)\n",
        "var3= 1/var\n",
        "var4= var.astype(float)\n",
        "var5= np.reciprocal(var4)\n",
        "\n",
        "print(var1)\n",
        "print(var2)\n",
        "print(var3)\n",
        "print(var4)\n",
        "print(var5)"
      ],
      "metadata": {
        "colab": {
          "base_uri": "https://localhost:8080/"
        },
        "id": "6wVduz1MhNif",
        "outputId": "c4450e4b-a69c-4668-de27-b7d11ae82c35"
      },
      "execution_count": null,
      "outputs": [
        {
          "output_type": "stream",
          "name": "stdout",
          "text": [
            "[ 1  4  9 16]\n",
            "[ 1  4  9 16]\n",
            "[1.         0.5        0.33333333 0.25      ]\n",
            "[1. 2. 3. 4.]\n",
            "[1.         0.5        0.33333333 0.25      ]\n"
          ]
        }
      ]
    },
    {
      "cell_type": "code",
      "source": [
        "#using 2D arrays to do operations\n",
        "\n",
        "import numpy as np\n",
        "\n",
        "var21= np.array([[1,2,3,4,5], [5,6,7,8,9,]])\n",
        "var22= np.array([[1,2,3,4,5], [5,6,7,8,9,]])\n",
        "\n",
        "print( \"Array one: \", var21)\n",
        "print(\"Array two: \", var22)\n",
        "\n",
        "added= var21+ var22\n",
        "npadd= np.add(var21, var22)\n",
        "\n",
        "print( \"Added Arrays: \\n\", added, \"\\n\", npadd)"
      ],
      "metadata": {
        "colab": {
          "base_uri": "https://localhost:8080/"
        },
        "id": "zxXX9hWcYPd5",
        "outputId": "11ca9691-cc85-4fb6-8da5-df67876bda38"
      },
      "execution_count": null,
      "outputs": [
        {
          "output_type": "stream",
          "name": "stdout",
          "text": [
            "Array one:  [[1 2 3 4 5]\n",
            " [5 6 7 8 9]]\n",
            "Array two:  [[1 2 3 4 5]\n",
            " [5 6 7 8 9]]\n",
            "Added Arrays: \n",
            " [[ 2  4  6  8 10]\n",
            " [10 12 14 16 18]] \n",
            " [[ 2  4  6  8 10]\n",
            " [10 12 14 16 18]]\n"
          ]
        }
      ]
    },
    {
      "cell_type": "code",
      "source": [
        "#BASIC ARITHMATIC FUNTIONS IN NUMPY\n",
        "\n",
        "import numpy as np\n",
        "\n",
        "var= np.array([1, 2, 3, 4, 5])\n",
        "\n",
        "print(\"MIN: \", np.min(var), \"\\n\", \"MAX: \", np.max(var), \"\\nLOWEST ELEMENT POSITION: \", np.argmin(var), \"\\nSQUARING: \" ,np.sqrt(var), \"\\nCUMULATIVE SUM: \" ,np.cumsum(var), \"\\nSin values of var: \", np.sin(var),\"\\nCos values of var: \", np.cos(var), \"\\nlog values of var: \", np.log(var))\n",
        "\n"
      ],
      "metadata": {
        "colab": {
          "base_uri": "https://localhost:8080/"
        },
        "id": "n0kr1baGbsnp",
        "outputId": "e28cee46-220b-4bf0-dee6-ddd1c82b8850"
      },
      "execution_count": null,
      "outputs": [
        {
          "output_type": "stream",
          "name": "stdout",
          "text": [
            "MIN:  1 \n",
            " MAX:  5 \n",
            "LOWEST ELEMENT POSITION:  0 \n",
            "SQUARING:  [1.         1.41421356 1.73205081 2.         2.23606798] \n",
            "CUMULATIVE SUM:  [ 1  3  6 10 15] \n",
            "Sin values of var:  [ 0.84147098  0.90929743  0.14112001 -0.7568025  -0.95892427] \n",
            "Cos values of var:  [ 0.54030231 -0.41614684 -0.9899925  -0.65364362  0.28366219] \n",
            "log values of var:  [0.         0.69314718 1.09861229 1.38629436 1.60943791]\n",
            "[ 0.84147098  0.90929743  0.14112001 -0.7568025  -0.95892427]\n"
          ]
        }
      ]
    },
    {
      "cell_type": "code",
      "source": [
        "#BASIC ARITHMATIC OPERATION IN PERFORMING IN 2D NUMPY ARRAY\n",
        "\n",
        "import numpy as np\n",
        "\n",
        "var= np.array([[1,2,3,4],[5,6,7,8]])\n",
        "print(\"MIN: \", np.min(var), \"\\n\", \"MAX: \", np.max(var), \"\\nLOWEST ELEMENT POSITION: \", np.argmin(var), \"\\nSQUARE ROOT: \\n\" ,np.sqrt(var), \"\\nCUMULATIVE SUM: \\n\" ,np.cumsum(var), \"\\nSin values of var: \\n\", np.sin(var),\"\\nCos values of var: \\n\", np.cos(var), \"\\nlog values of var: \\n\", np.log(var))\n",
        "\n"
      ],
      "metadata": {
        "colab": {
          "base_uri": "https://localhost:8080/"
        },
        "id": "ilLID3v1gCrv",
        "outputId": "ce0a351c-df94-49dc-e4d1-a4cb331482a8"
      },
      "execution_count": null,
      "outputs": [
        {
          "output_type": "stream",
          "name": "stdout",
          "text": [
            "MIN:  1 \n",
            " MAX:  8 \n",
            "LOWEST ELEMENT POSITION:  0 \n",
            "SQUARE ROOT: \n",
            " [[1.         1.41421356 1.73205081 2.        ]\n",
            " [2.23606798 2.44948974 2.64575131 2.82842712]] \n",
            "CUMULATIVE SUM: \n",
            " [ 1  3  6 10 15 21 28 36] \n",
            "Sin values of var: \n",
            " [[ 0.84147098  0.90929743  0.14112001 -0.7568025 ]\n",
            " [-0.95892427 -0.2794155   0.6569866   0.98935825]] \n",
            "Cos values of var: \n",
            " [[ 0.54030231 -0.41614684 -0.9899925  -0.65364362]\n",
            " [ 0.28366219  0.96017029  0.75390225 -0.14550003]] \n",
            "log values of var: \n",
            " [[0.         0.69314718 1.09861229 1.38629436]\n",
            " [1.60943791 1.79175947 1.94591015 2.07944154]]\n"
          ]
        }
      ]
    },
    {
      "cell_type": "code",
      "source": [
        "#ARITHMATIC OPERATION ALONG AXIS\n",
        "\n",
        "import numpy as np\n",
        "\n",
        "var= np.array([[13,12,163,14],[55,60,17,18]])\n",
        "print(\" Along the column:\" ,np.argmin(var, axis=0))\n",
        "print( \"Along the row: \", np.argmin(var, axis=1))\n"
      ],
      "metadata": {
        "colab": {
          "base_uri": "https://localhost:8080/"
        },
        "id": "M3YMtVs0g4yq",
        "outputId": "ab1ae13f-535b-4a75-b520-b2de348da9b9"
      },
      "execution_count": null,
      "outputs": [
        {
          "output_type": "stream",
          "name": "stdout",
          "text": [
            " Along the column: [0 0 1 0]\n",
            "Along the row:  [1 2]\n"
          ]
        }
      ]
    },
    {
      "cell_type": "code",
      "source": [
        "# SHAPE AND RESHAPE OF AN NUMPY ARRAY\n",
        "\n",
        "import numpy as np\n",
        "\n",
        "var= np.array([[1,2],[1,2]])\n",
        "var2= np.array([[1,2],[1,2],[1,2]])\n",
        "\n",
        "print(\"var array: \\n\",var, \"\\n\")\n",
        "print(\"Shape of the var array: \\n\",var.shape, \"\\n\")  #give the shape of the array provided.\n",
        "print(\"var2 array: \",var2, \"\\n\")\n",
        "print(\"Shape of the var2 array: \",var2.shape)\n",
        "\n"
      ],
      "metadata": {
        "colab": {
          "base_uri": "https://localhost:8080/"
        },
        "id": "fOwcwHTpnLRH",
        "outputId": "b0ce14d7-6214-49d5-8276-55305f7803a6"
      },
      "execution_count": null,
      "outputs": [
        {
          "output_type": "stream",
          "name": "stdout",
          "text": [
            "var array: \n",
            " [[1 2]\n",
            " [1 2]] \n",
            "\n",
            "Shape of the var array: \n",
            " (2, 2) \n",
            "\n",
            "var2 array:  [[1 2]\n",
            " [1 2]\n",
            " [1 2]] \n",
            "\n",
            "Shape of the var2 array:  (3, 2)\n"
          ]
        }
      ]
    },
    {
      "cell_type": "code",
      "source": [
        "import numpy as np\n",
        "\n",
        "var1= np.array([1,2,3,4], ndmin=2)\n",
        "\n",
        "print(\"give the array:\" ,var1)\n",
        "print(\"give dimension of the array: \",var1.ndim)\n",
        "print(\"give the shape of the array: \",var1.shape)\n",
        "\n"
      ],
      "metadata": {
        "colab": {
          "base_uri": "https://localhost:8080/"
        },
        "id": "OzKAwbTkqB2G",
        "outputId": "95d92190-a2b1-4597-ea4a-639c7545bf0f"
      },
      "execution_count": null,
      "outputs": [
        {
          "output_type": "stream",
          "name": "stdout",
          "text": [
            "give the array: [[1 2 3 4]]\n",
            "give dimension of the array:  2\n",
            "give the shape of the array:  (1, 4)\n"
          ]
        }
      ]
    },
    {
      "cell_type": "code",
      "source": [
        "#RESHAPING OF THE ARRAY IN NUMPY\n",
        "\n",
        "import numpy as np\n",
        "\n",
        "var= np.array([1, 2, 3, 4, 5,6])\n",
        "x= var.reshape(3,2)\n",
        "\n",
        "print(var)\n",
        "print(var.ndim)\n",
        "print(x)\n",
        "print(x.ndim)"
      ],
      "metadata": {
        "colab": {
          "base_uri": "https://localhost:8080/"
        },
        "id": "9E0O2_IerMgN",
        "outputId": "4cd6d989-219f-4733-e4c4-f21f870c6e7e"
      },
      "execution_count": null,
      "outputs": [
        {
          "output_type": "stream",
          "name": "stdout",
          "text": [
            "[1 2 3 4 5 6]\n",
            "1\n",
            "[[1 2]\n",
            " [3 4]\n",
            " [5 6]]\n",
            "2\n"
          ]
        }
      ]
    },
    {
      "cell_type": "code",
      "source": [
        "import numpy as np\n",
        "\n",
        "var= np.array([1,2,3,4,5,6,7,8,9,10,11,12])\n",
        "x=var.reshape(2,3,2)\n",
        "\n",
        "print(var)\n",
        "print(var.ndim)\n",
        "\n",
        "print(x)\n",
        "print(x.ndim)\n",
        "\n",
        "var2= x.reshape(12)\n",
        "print(var2)\n",
        "\n",
        "var3=x.reshape(-1)\n",
        "print(var3)\n",
        "\n",
        "var4= x.flatten()\n",
        "print(var4)"
      ],
      "metadata": {
        "colab": {
          "base_uri": "https://localhost:8080/"
        },
        "id": "qDwmjTUNs5-9",
        "outputId": "5adab08f-97b3-44ab-93ad-65c4b40056bf"
      },
      "execution_count": null,
      "outputs": [
        {
          "output_type": "stream",
          "name": "stdout",
          "text": [
            "[ 1  2  3  4  5  6  7  8  9 10 11 12]\n",
            "1\n",
            "[[[ 1  2]\n",
            "  [ 3  4]\n",
            "  [ 5  6]]\n",
            "\n",
            " [[ 7  8]\n",
            "  [ 9 10]\n",
            "  [11 12]]]\n",
            "3\n",
            "[ 1  2  3  4  5  6  7  8  9 10 11 12]\n",
            "[ 1  2  3  4  5  6  7  8  9 10 11 12]\n",
            "[ 1  2  3  4  5  6  7  8  9 10 11 12]\n"
          ]
        }
      ]
    },
    {
      "cell_type": "code",
      "source": [
        "import numpy as np\n",
        "\n",
        "var= np.array([1,2,3,4,5,6,7,8,9,10,11,12])\n",
        "x=var.reshape(2,3,2)\n",
        "\n",
        "print(x)\n",
        "\n",
        "var3=x.reshape(-1)\n",
        "print(var3)\n",
        "\n",
        "x1= x.reshape(12)\n",
        "print(x1)\n",
        "\n",
        "var4= x.flatten()\n",
        "print(var4)"
      ],
      "metadata": {
        "colab": {
          "base_uri": "https://localhost:8080/"
        },
        "id": "yfJWB-rWul9E",
        "outputId": "7e09b812-f5be-4d51-8005-6da7d1021984"
      },
      "execution_count": null,
      "outputs": [
        {
          "output_type": "stream",
          "name": "stdout",
          "text": [
            "[[[ 1  2]\n",
            "  [ 3  4]\n",
            "  [ 5  6]]\n",
            "\n",
            " [[ 7  8]\n",
            "  [ 9 10]\n",
            "  [11 12]]]\n",
            "[ 1  2  3  4  5  6  7  8  9 10 11 12]\n",
            "[ 1  2  3  4  5  6  7  8  9 10 11 12]\n",
            "[ 1  2  3  4  5  6  7  8  9 10 11 12]\n"
          ]
        }
      ]
    },
    {
      "cell_type": "code",
      "source": [
        "import numpy as np\n",
        "\n",
        "var1= np.array([1,2,3,4])\n",
        "var2 = np.array([5,6,7,8])\n",
        "\n",
        "print(var1+var2)"
      ],
      "metadata": {
        "id": "2_AtGtd4c1m6",
        "colab": {
          "base_uri": "https://localhost:8080/"
        },
        "outputId": "3475f270-d230-4d79-e70b-3f3e2a5b6d90"
      },
      "execution_count": null,
      "outputs": [
        {
          "output_type": "stream",
          "name": "stdout",
          "text": [
            "[ 6  8 10 12]\n"
          ]
        }
      ]
    },
    {
      "cell_type": "code",
      "source": [
        "import numpy as np\n",
        "\n",
        "var1= np.array([1,2,3])\n",
        "print(var1.shape)\n",
        "print(var1)\n",
        "\n",
        "print()\n",
        "\n",
        "var2= np.array([[1],[2],[3]])\n",
        "print(var2.shape)\n",
        "print(var2)\n",
        "print()\n",
        "\n",
        "print(var1 + var2)"
      ],
      "metadata": {
        "colab": {
          "base_uri": "https://localhost:8080/"
        },
        "id": "RpDjlMG7qbuW",
        "outputId": "e377d0cc-2964-409b-e378-bdddb1a12da9"
      },
      "execution_count": null,
      "outputs": [
        {
          "output_type": "stream",
          "name": "stdout",
          "text": [
            "(3,)\n",
            "[1 2 3]\n",
            "\n",
            "(3, 1)\n",
            "[[1]\n",
            " [2]\n",
            " [3]]\n",
            "\n",
            "[[2 3 4]\n",
            " [3 4 5]\n",
            " [4 5 6]]\n"
          ]
        }
      ]
    },
    {
      "cell_type": "code",
      "source": [
        "import numpy as np\n",
        "\n",
        "x= np.array([[1],[2]])\n",
        "print(x.shape)\n",
        "print()\n",
        "y= np.array([[2,3,4],[5,6,7]])\n",
        "print(y.shape)\n",
        "print()\n",
        "\n",
        "print(x+y)"
      ],
      "metadata": {
        "colab": {
          "base_uri": "https://localhost:8080/"
        },
        "id": "Esd-1uBlsXL1",
        "outputId": "7ce2525e-b51c-48b0-89d4-b0963fece49e"
      },
      "execution_count": null,
      "outputs": [
        {
          "output_type": "stream",
          "name": "stdout",
          "text": [
            "(2, 1)\n",
            "\n",
            "(2, 3)\n",
            "\n",
            "[[3 4 5]\n",
            " [7 8 9]]\n"
          ]
        }
      ]
    },
    {
      "cell_type": "code",
      "source": [
        "import numpy as np\n",
        "\n",
        "var= np.array([1,2,3])\n",
        "print()\n",
        "print(var)\n",
        "print(var[0])\n",
        "print(var[1])\n",
        "print(var[2])\n",
        "print()\n",
        "print(var[-1])\n",
        "print(var[-2])\n",
        "print(var[-3 ])"
      ],
      "metadata": {
        "colab": {
          "base_uri": "https://localhost:8080/"
        },
        "id": "75HUi4tuu6Ec",
        "outputId": "f6d86831-f080-4243-9241-8c421a27db11"
      },
      "execution_count": null,
      "outputs": [
        {
          "output_type": "stream",
          "name": "stdout",
          "text": [
            "\n",
            "[1 2 3]\n",
            "1\n",
            "2\n",
            "3\n",
            "\n",
            "3\n",
            "2\n",
            "1\n"
          ]
        }
      ]
    },
    {
      "cell_type": "code",
      "source": [
        "var= np.array([[1,2,3], [4,5,6]])\n",
        "\n",
        "print(var)\n",
        "print(var.ndim)\n",
        "print(var.shape)\n",
        "print()\n",
        "print(var[0,2])\n",
        "print(var[1,2])\n",
        "print()\n",
        "\n",
        "print(var[-1,-1])\n",
        "print(var[-2,-1])"
      ],
      "metadata": {
        "colab": {
          "base_uri": "https://localhost:8080/"
        },
        "id": "1sCQvGzAwZbV",
        "outputId": "05871ae9-b10e-468c-b4e5-8b5e8d598711"
      },
      "execution_count": null,
      "outputs": [
        {
          "output_type": "stream",
          "name": "stdout",
          "text": [
            "[[1 2 3]\n",
            " [4 5 6]]\n",
            "2\n",
            "(2, 3)\n",
            "\n",
            "3\n",
            "6\n",
            "\n",
            "6\n",
            "3\n"
          ]
        }
      ]
    },
    {
      "cell_type": "code",
      "source": [
        "var= np.array([[[1,2,3], [4,5,6]], [[7,8,9], [10,11,12]]])\n",
        "\n",
        "print(var)\n",
        "print(var.ndim)\n",
        "print(var.shape)\n",
        "print()\n",
        "print(var[0,1,2])\n",
        "print(var[1,1,2])"
      ],
      "metadata": {
        "colab": {
          "base_uri": "https://localhost:8080/"
        },
        "id": "XIZFbDs-xa_U",
        "outputId": "6995c965-1813-468f-a378-5ba30c5ed5a9"
      },
      "execution_count": null,
      "outputs": [
        {
          "output_type": "stream",
          "name": "stdout",
          "text": [
            "[[[ 1  2  3]\n",
            "  [ 4  5  6]]\n",
            "\n",
            " [[ 7  8  9]\n",
            "  [10 11 12]]]\n",
            "3\n",
            "(2, 2, 3)\n",
            "\n",
            "6\n",
            "12\n"
          ]
        }
      ]
    },
    {
      "cell_type": "code",
      "source": [
        "import numpy as np\n",
        "\n",
        "var= np.array([1,2,3,4,5,6,7,8])\n",
        "print(var.shape)\n",
        "\n",
        "print(var[0:7:1])\n",
        "print(var[0:7:2])\n",
        "print()\n",
        "print(var[1:6:2])\n",
        "print(var[3:6:1])\n",
        "print()\n",
        "print(var[::])\n",
        "print(var[::2])\n",
        "print(var[::-2])\n",
        "print()\n",
        "print(var[-1:-6:-2])\n",
        "\n",
        "x= np.array(var[0:7:2])\n",
        "print(x)"
      ],
      "metadata": {
        "colab": {
          "base_uri": "https://localhost:8080/"
        },
        "id": "K5uvfikWyPbM",
        "outputId": "047662d9-307e-49cb-850b-3baa6c89a077"
      },
      "execution_count": null,
      "outputs": [
        {
          "output_type": "stream",
          "name": "stdout",
          "text": [
            "(8,)\n",
            "[1 2 3 4 5 6 7]\n",
            "[1 3 5 7]\n",
            "\n",
            "[2 4 6]\n",
            "[4 5 6]\n",
            "\n",
            "[1 2 3 4 5 6 7 8]\n",
            "[1 3 5 7]\n",
            "[8 6 4 2]\n",
            "\n",
            "[8 6 4]\n",
            "[1 3 5 7]\n"
          ]
        }
      ]
    },
    {
      "cell_type": "code",
      "source": [
        "x=np.array([[1,2,3,4],[5,6,7,8],[9,10,11,12],[13,14,15,16]])\n",
        "print(x)\n",
        "print()\n",
        "print(\"from 9 to 12: \", x[2,3:0:-1])"
      ],
      "metadata": {
        "colab": {
          "base_uri": "https://localhost:8080/"
        },
        "id": "XsnE3dZ00jgM",
        "outputId": "ab33466e-652b-4ccf-c155-24e88f0c0ade"
      },
      "execution_count": null,
      "outputs": [
        {
          "output_type": "stream",
          "name": "stdout",
          "text": [
            "[[ 1  2  3  4]\n",
            " [ 5  6  7  8]\n",
            " [ 9 10 11 12]\n",
            " [13 14 15 16]]\n",
            "\n",
            "from 9 to 12:  [12 11 10]\n"
          ]
        }
      ]
    },
    {
      "cell_type": "code",
      "source": [
        "#interation in Numpy array\n",
        "\n",
        "import numpy as np\n",
        "\n",
        "arr= np.array([1,2,3,4])\n",
        "print(arr)\n",
        "print()\n",
        "\n",
        "for i in arr:\n",
        "  print(i, end=\" \")"
      ],
      "metadata": {
        "colab": {
          "base_uri": "https://localhost:8080/"
        },
        "id": "L1hqsf1C_Mtk",
        "outputId": "e84db1c5-c5e0-4cc1-ceb7-60c3119d0a62"
      },
      "execution_count": null,
      "outputs": [
        {
          "output_type": "stream",
          "name": "stdout",
          "text": [
            "[1 2 3 4]\n",
            "\n",
            "1 2 3 4 <class 'numpy.int64'>\n"
          ]
        }
      ]
    },
    {
      "cell_type": "code",
      "source": [
        "#iteration in 2-D array\n",
        "\n",
        "import numpy as np\n",
        "\n",
        "arr= np.array([[1,2,3,4],[5,6,7,8]])\n",
        "\n",
        "print(arr)\n",
        "print()\n",
        "print(np.ndim(arr))\n",
        "print()\n",
        "\n",
        "\n",
        "for i in arr:\n",
        "  print(i)\n",
        "\n",
        "print()\n",
        "for m in arr:\n",
        "  for j in m:\n",
        "    print(j, end=\" \")"
      ],
      "metadata": {
        "colab": {
          "base_uri": "https://localhost:8080/"
        },
        "id": "0i7AECOh_0NB",
        "outputId": "4c63bbcb-4c16-4e74-fd60-4dab9fd4ad3f"
      },
      "execution_count": null,
      "outputs": [
        {
          "output_type": "stream",
          "name": "stdout",
          "text": [
            "[[1 2 3 4]\n",
            " [5 6 7 8]]\n",
            "\n",
            "2\n",
            "\n",
            "[1 2 3 4]\n",
            "[5 6 7 8]\n",
            "\n",
            "1 2 3 4 5 6 7 8 "
          ]
        }
      ]
    },
    {
      "cell_type": "code",
      "source": [
        "#iteration in 2-D array\n",
        "#printing through inbuild numpy module package\n",
        "\n",
        "import numpy as np\n",
        "\n",
        "arr= np.array([[1,2,3,4],[5,6,7,8]])\n",
        "\n",
        "print(arr)\n",
        "print()\n",
        "print(np.ndim(arr))\n",
        "print()\n",
        "\n",
        "for n in np.nditer(arr, flags= ['buffered'], op_dtypes= ['S']):\n",
        "  print(n, end=' ')\n"
      ],
      "metadata": {
        "colab": {
          "base_uri": "https://localhost:8080/"
        },
        "id": "6gacEtjlBbhx",
        "outputId": "58983a69-3702-4031-8436-5595ee96d3e6"
      },
      "execution_count": null,
      "outputs": [
        {
          "output_type": "stream",
          "name": "stdout",
          "text": [
            "[[1 2 3 4]\n",
            " [5 6 7 8]]\n",
            "\n",
            "2\n",
            "\n",
            "b'1' b'2' b'3' b'4' b'5' b'6' b'7' b'8' "
          ]
        }
      ]
    },
    {
      "cell_type": "code",
      "source": [
        "#iteration in 2-D array\n",
        "#printing through inbuild numpy module package\n",
        "\n",
        "import numpy as np\n",
        "\n",
        "arr= np.array([[1,2,3,4],[5,6,7,8]])\n",
        "\n",
        "print(arr)\n",
        "print()\n",
        "print(np.ndim(arr))\n",
        "print()\n",
        "\n",
        "for n in np.nditer(arr):\n",
        "  print(n, end=' ')\n"
      ],
      "metadata": {
        "colab": {
          "base_uri": "https://localhost:8080/"
        },
        "id": "5J1CyvT6EJJB",
        "outputId": "a58dbd68-aab7-435f-ef53-e7c7c04381d0"
      },
      "execution_count": null,
      "outputs": [
        {
          "output_type": "stream",
          "name": "stdout",
          "text": [
            "[[1 2 3 4]\n",
            " [5 6 7 8]]\n",
            "\n",
            "2\n",
            "\n",
            "1 2 3 4 5 6 7 8 "
          ]
        }
      ]
    },
    {
      "cell_type": "code",
      "source": [
        "#iteration in 2-D array\n",
        "#printing through inbuild numpy module package\n",
        "\n",
        "import numpy as np\n",
        "\n",
        "arr= np.array([[1,2,3,4],[5,6,7,8]])\n",
        "\n",
        "print(arr)\n",
        "print()\n",
        "print(np.ndim(arr))\n",
        "print()\n",
        "\n",
        "for n in np.ndenumerate(arr):\n",
        "  print(n)\n"
      ],
      "metadata": {
        "colab": {
          "base_uri": "https://localhost:8080/"
        },
        "id": "59rSSm5gEi6x",
        "outputId": "a4b905c9-b76a-4b56-d1ea-6f86ac37944b"
      },
      "execution_count": null,
      "outputs": [
        {
          "output_type": "stream",
          "name": "stdout",
          "text": [
            "[[1 2 3 4]\n",
            " [5 6 7 8]]\n",
            "\n",
            "2\n",
            "\n",
            "((0, 0), 1)\n",
            "((0, 1), 2)\n",
            "((0, 2), 3)\n",
            "((0, 3), 4)\n",
            "((1, 0), 5)\n",
            "((1, 1), 6)\n",
            "((1, 2), 7)\n",
            "((1, 3), 8)\n"
          ]
        }
      ]
    },
    {
      "cell_type": "code",
      "source": [
        "#COPY VS VIEW IN NUMPY\n",
        "\n",
        "import numpy as np\n",
        "\n",
        "var= np.array([1,2,3,4])\n",
        "co= np.copy(var)\n",
        "\n",
        "print(\"array: \", var)\n",
        "print(\"copied: \",co)\n",
        "\n",
        "x= co.view()\n",
        "print(\"view co: \", x)\n",
        "\n",
        "y= var.view()\n",
        "print(\"view var: \", y)\n"
      ],
      "metadata": {
        "colab": {
          "base_uri": "https://localhost:8080/"
        },
        "id": "SHwSzlGvF7pi",
        "outputId": "4556551f-2fef-467c-be63-bf52085f7d19"
      },
      "execution_count": null,
      "outputs": [
        {
          "output_type": "stream",
          "name": "stdout",
          "text": [
            "array:  [1 2 3 4]\n",
            "copied:  [1 2 3 4]\n",
            "view co:  [1 2 3 4]\n",
            "view var:  [1 2 3 4]\n"
          ]
        }
      ]
    },
    {
      "cell_type": "code",
      "source": [
        "#JION ARRAY\n",
        "\n",
        "import numpy as np\n",
        "\n",
        "var1= np.array([1,2,3,4])\n",
        "var2= np.array([9,8,7,6])\n",
        "var3= np.array([10,11,12,13])\n",
        "\n",
        "arr= np.concatenate((var1,var2, var3))\n",
        "print(arr)\n"
      ],
      "metadata": {
        "colab": {
          "base_uri": "https://localhost:8080/"
        },
        "id": "BFdzG1QMEbZ1",
        "outputId": "378651f1-6db6-4e58-c032-d82cc18ac2da"
      },
      "execution_count": null,
      "outputs": [
        {
          "output_type": "stream",
          "name": "stdout",
          "text": [
            "[ 1  2  3  4  9  8  7  6 10 11 12 13]\n"
          ]
        }
      ]
    },
    {
      "cell_type": "code",
      "source": [
        "#CONCAENATION ALONG THE AXIS\n",
        "\n",
        "import numpy as np\n",
        "\n",
        "var1= np.array([[1,2],[3,4]])\n",
        "var2= np.array([[9,8],[7,6,]])\n",
        "arr1= np.concatenate((var1, var2), axis=1)\n",
        "arr2= np.concatenate((var1, var2), axis=0)\n",
        "\n",
        "print(\"joinin through axis= 1 arr \\n\", arr1)\n",
        "print(\"joinin through axis= o arr \\n\", arr2)\n"
      ],
      "metadata": {
        "colab": {
          "base_uri": "https://localhost:8080/"
        },
        "id": "NAk0B3l5Hw_F",
        "outputId": "cd1cb994-1aa4-48ca-ba33-f29a0fad86f8"
      },
      "execution_count": null,
      "outputs": [
        {
          "output_type": "stream",
          "name": "stdout",
          "text": [
            "joinin through axis= 1 arr \n",
            " [[1 2 9 8]\n",
            " [3 4 7 6]]\n",
            "joinin through axis= o arr \n",
            " [[1 2]\n",
            " [3 4]\n",
            " [9 8]\n",
            " [7 6]]\n"
          ]
        }
      ]
    },
    {
      "cell_type": "code",
      "source": [
        "#USING STACK FUNTION IN NUMPY\n",
        "\n",
        "import numpy as np\n",
        "\n",
        "var1= np.array([1,2,3,4])\n",
        "var2= np.array([9,8,7,6])\n",
        "\n",
        "ar_new= np.stack((var1,var2), axis=1)\n",
        "a_new= np.stack((var1, var2), axis=0)\n",
        "\n",
        "print(ar_new)\n",
        "print()\n",
        "print(a_new)\n",
        "print()\n",
        "\n",
        "ar_h= np.hstack((var1,var2))  #work along the row\n",
        "ar_v= np.vstack((var1,var2))  #work along the column\n",
        "ar_d= np.dstack((var1,var2))  #work along the height\n",
        "\n",
        "print(ar_h, \"\\n\", ar_v, \"\\n\", ar_d)\n",
        "\n",
        "print( np.ndim(ar_h), \"\\n\", np.ndim(ar_v), \"\\n\", np.ndim(ar_d))\n"
      ],
      "metadata": {
        "colab": {
          "base_uri": "https://localhost:8080/"
        },
        "id": "TQXWSgjeKaYt",
        "outputId": "cc76be97-8ca7-4554-b24d-92a2ef86fdee"
      },
      "execution_count": null,
      "outputs": [
        {
          "output_type": "stream",
          "name": "stdout",
          "text": [
            "[[1 9]\n",
            " [2 8]\n",
            " [3 7]\n",
            " [4 6]]\n",
            "\n",
            "[[1 2 3 4]\n",
            " [9 8 7 6]]\n",
            "\n",
            "[1 2 3 4 9 8 7 6] \n",
            " [[1 2 3 4]\n",
            " [9 8 7 6]] \n",
            " [[[1 9]\n",
            "  [2 8]\n",
            "  [3 7]\n",
            "  [4 6]]]\n",
            "1 \n",
            " 2 \n",
            " 3\n"
          ]
        }
      ]
    },
    {
      "cell_type": "code",
      "source": [
        "#SPILITING ARRAY\n",
        "\n",
        "import numpy as np\n",
        "\n",
        "var= np.array([1,2,3,4])\n",
        "print(var)\n",
        "print(var)\n",
        "\n",
        "ar= np.array_split(var, 6)\n",
        "\n",
        "print(ar)"
      ],
      "metadata": {
        "colab": {
          "base_uri": "https://localhost:8080/"
        },
        "id": "lIGnABlQNCv8",
        "outputId": "d960b87e-13d2-4b5e-aa5a-bfbfb6c278e9"
      },
      "execution_count": null,
      "outputs": [
        {
          "output_type": "stream",
          "name": "stdout",
          "text": [
            "[1 2 3 4]\n",
            "[1 2 3 4]\n",
            "[array([1]), array([2]), array([3]), array([4]), array([], dtype=int64), array([], dtype=int64)]\n"
          ]
        }
      ]
    },
    {
      "cell_type": "code",
      "source": [
        "#SPILITING ARRAY\n",
        "\n",
        "import numpy as np\n",
        "\n",
        "var= np.array([[1,2],[3,4],[5,6]])\n",
        "print(var)\n",
        "print()\n",
        "ar= np.array_split(var,3)\n",
        "ar0= np.array_split(var,3, axis=0)\n",
        "ar1= np.array_split(var,2, axis=1)\n",
        "\n",
        "print(ar)\n",
        "print()\n",
        "print(ar0)\n",
        "print()\n",
        "print(ar1)"
      ],
      "metadata": {
        "colab": {
          "base_uri": "https://localhost:8080/"
        },
        "id": "Bmp1rmXuN7PM",
        "outputId": "49b6f2de-057c-48d3-c0fd-a597d5f356bd"
      },
      "execution_count": null,
      "outputs": [
        {
          "output_type": "stream",
          "name": "stdout",
          "text": [
            "[[1 2]\n",
            " [3 4]\n",
            " [5 6]]\n",
            "\n",
            "[array([[1, 2]]), array([[3, 4]]), array([[5, 6]])]\n",
            "\n",
            "[array([[1, 2]]), array([[3, 4]]), array([[5, 6]])]\n",
            "\n",
            "[array([[1],\n",
            "       [3],\n",
            "       [5]]), array([[2],\n",
            "       [4],\n",
            "       [6]])]\n"
          ]
        }
      ]
    },
    {
      "cell_type": "code",
      "source": [
        "#SEARCHING IN NUMPY ARRAY\n",
        "\n",
        "import numpy as np\n",
        "\n",
        "var= np.array([1,2,3,3,2,4,2,6])\n",
        "#indexing      0,1,2,3,4,5,6,7\n",
        "\n",
        "y= np.where(var%2==0)\n",
        "print(y)\n",
        "\n",
        "x= np.where(var==2)\n",
        "\n",
        "print(x)"
      ],
      "metadata": {
        "colab": {
          "base_uri": "https://localhost:8080/"
        },
        "id": "HAyNNWQmUki8",
        "outputId": "16e37895-71dc-4899-bcf6-52f7e243de6e"
      },
      "execution_count": null,
      "outputs": [
        {
          "output_type": "stream",
          "name": "stdout",
          "text": [
            "(array([1, 4, 5, 6, 7]),)\n",
            "(array([1, 4, 6]),)\n"
          ]
        }
      ]
    },
    {
      "cell_type": "code",
      "source": [
        "#SEARCH SORT\n",
        "\n",
        "import numpy as np\n",
        "\n",
        "var= np.array([0,1,1,2,3,5,6,8,9,10,11,11])\n",
        "\n",
        "x= np.searchsorted(var, 1)\n",
        "print(x)\n",
        "print()\n",
        "y= np.where(var==11)\n",
        "print(y)\n",
        "\n",
        "z= np.searchsorted(var,1,side= \"left\")\n",
        "k = np.searchsorted(var,1,side= \"right\")\n",
        "print(z)\n",
        "print()\n",
        "print(k)"
      ],
      "metadata": {
        "colab": {
          "base_uri": "https://localhost:8080/"
        },
        "id": "t10HadPTlOLR",
        "outputId": "859084f8-6c20-46db-f8d7-de43d83d2208"
      },
      "execution_count": null,
      "outputs": [
        {
          "output_type": "stream",
          "name": "stdout",
          "text": [
            "1\n",
            "\n",
            "(array([10, 11]),)\n",
            "1\n",
            "\n",
            "3\n"
          ]
        }
      ]
    },
    {
      "cell_type": "code",
      "source": [
        "#PLACEMENT OF NUMBER IN SORTED ARRAY\n",
        "\n",
        "import numpy as np\n",
        "\n",
        "var= np.array([1,2,3,5,6,7,8,9,10])\n",
        "\n",
        "x= np.searchsorted(var, [3,4,5,7])\n",
        "print(x)    #itll print where given elements in the array should be inserted"
      ],
      "metadata": {
        "colab": {
          "base_uri": "https://localhost:8080/"
        },
        "id": "9gPxH_DvnAyf",
        "outputId": "67470f3f-2262-4a90-816d-9879aee24929"
      },
      "execution_count": null,
      "outputs": [
        {
          "output_type": "stream",
          "name": "stdout",
          "text": [
            "[2 3 3 5]\n"
          ]
        }
      ]
    },
    {
      "cell_type": "code",
      "source": [
        "#USING SORT FUNTION IN NUMPY\n",
        "\n",
        "import numpy as np\n",
        "\n",
        "var= np.array([3,4,2,5,6,7,1,2])\n",
        "print(np.sort(var))"
      ],
      "metadata": {
        "colab": {
          "base_uri": "https://localhost:8080/"
        },
        "id": "01DODHH7n-qJ",
        "outputId": "d64702ef-c988-44b1-e822-2efb727a3153"
      },
      "execution_count": null,
      "outputs": [
        {
          "output_type": "stream",
          "name": "stdout",
          "text": [
            "[1 2 2 3 4 5 6 7]\n"
          ]
        }
      ]
    },
    {
      "cell_type": "code",
      "source": [
        "#USING SORT FUNTION IN NUMPY\n",
        "\n",
        "import numpy as np\n",
        "\n",
        "var= np.array([\"b\",\"a\", \"d\"])\n",
        "print(np.sort(var))"
      ],
      "metadata": {
        "colab": {
          "base_uri": "https://localhost:8080/"
        },
        "id": "Y9_XS-zCrigt",
        "outputId": "e2a98858-ab86-4b32-b84f-10d3d510466f"
      },
      "execution_count": null,
      "outputs": [
        {
          "output_type": "stream",
          "name": "stdout",
          "text": [
            "['a' 'b' 'd']\n"
          ]
        }
      ]
    },
    {
      "cell_type": "code",
      "source": [
        "import numpy as np\n",
        "\n",
        "var= np.array([[1,2,0],[9,3,4],[8,5,6]])\n",
        "print(np.sort(var))\n"
      ],
      "metadata": {
        "colab": {
          "base_uri": "https://localhost:8080/"
        },
        "id": "i4KqHVlpr7Wx",
        "outputId": "41b8a0a3-f085-4187-ab27-098e0b928559"
      },
      "execution_count": null,
      "outputs": [
        {
          "output_type": "stream",
          "name": "stdout",
          "text": [
            "[[0 1 2]\n",
            " [3 4 9]\n",
            " [5 6 8]]\n"
          ]
        }
      ]
    },
    {
      "cell_type": "code",
      "source": [
        "#USING FILTER IN NUMPY\n",
        "\n",
        "var= np.array([ \"a\", \"d\", \"c\", \"k\"])\n",
        "\n",
        "f= [True, False, True, False]\n",
        "print(type(f))\n",
        "\n",
        "new_a= var[f]\n",
        "print(new_a)\n",
        "print(type(new_a))"
      ],
      "metadata": {
        "colab": {
          "base_uri": "https://localhost:8080/"
        },
        "id": "SFMpfbdEsYFt",
        "outputId": "d035452a-03a4-43e4-dbd6-7aa269ee23f2"
      },
      "execution_count": null,
      "outputs": [
        {
          "output_type": "stream",
          "name": "stdout",
          "text": [
            "<class 'list'>\n",
            "['a' 'c']\n",
            "<class 'numpy.ndarray'>\n"
          ]
        }
      ]
    },
    {
      "cell_type": "code",
      "source": [
        "#USIGN SUFFLE FUNTION FROM RANDOM O\n",
        "\n",
        "import numpy as np\n",
        "\n",
        "var= np.array([1,2,3,4,5])\n",
        "\n",
        "np.random.shuffle(var)\n",
        "print(var)"
      ],
      "metadata": {
        "colab": {
          "base_uri": "https://localhost:8080/"
        },
        "id": "d_MQO81AxK_o",
        "outputId": "59e94fb6-e224-40c9-b1de-bfc77a3df88d"
      },
      "execution_count": null,
      "outputs": [
        {
          "output_type": "stream",
          "name": "stdout",
          "text": [
            "[1 5 4 3 2]\n"
          ]
        }
      ]
    },
    {
      "cell_type": "code",
      "source": [
        "#USING UNIQUE FUNTION ON NUMPY\n",
        "\n",
        "var= np.array([1,2,3,4,2,3,5,7])\n",
        "x= np.unique(var, return_index=True, return_counts=True)\n",
        "print(x)"
      ],
      "metadata": {
        "colab": {
          "base_uri": "https://localhost:8080/"
        },
        "id": "drsis7GHyJvl",
        "outputId": "c553d758-091c-48e2-c9b5-ffa9426b386e"
      },
      "execution_count": null,
      "outputs": [
        {
          "output_type": "stream",
          "name": "stdout",
          "text": [
            "(array([1, 2, 3, 4, 5, 7]), array([0, 1, 2, 3, 6, 7]), array([1, 2, 2, 1, 1, 1]))\n"
          ]
        }
      ]
    },
    {
      "cell_type": "code",
      "source": [
        "#USING RESIZE FUNTION OF NUMPY\n",
        "\n",
        "import numpy as np\n",
        "\n",
        "var= np.array([1,2,3,4,5,6])\n",
        "x= np.resize(var, (2,3))\n",
        "y= np.resize(var,(3,2))\n",
        "z= np.resize(var, (2,2))\n",
        "\n",
        "print(var, \"\\n\", x, \"\\n\", y , \"\\n\", z)"
      ],
      "metadata": {
        "colab": {
          "base_uri": "https://localhost:8080/"
        },
        "id": "Uur7fteVzMk-",
        "outputId": "a43b163a-c4ee-45de-be35-4b8eaab024a9"
      },
      "execution_count": null,
      "outputs": [
        {
          "output_type": "stream",
          "name": "stdout",
          "text": [
            "[1 2 3 4 5 6] \n",
            " [[1 2 3]\n",
            " [4 5 6]] \n",
            " [[1 2]\n",
            " [3 4]\n",
            " [5 6]] \n",
            " [[1 2]\n",
            " [3 4]]\n"
          ]
        }
      ]
    },
    {
      "cell_type": "code",
      "source": [
        "#USING FLATTEN FUNTION IN NUMPY\n",
        "\n",
        "import numpy as np\n",
        "\n",
        "var= np.array([1,2,3,4,5,6])\n",
        "y= np.resize(var, (2,3))\n",
        "\n",
        "print(y)\n",
        "print()\n",
        "print(\"FLATTEN F:\",y.flatten(order=\"F\"))\n",
        "print(\"RAVEL A&K(same):\",y.ravel(order=\"K\"))\n"
      ],
      "metadata": {
        "colab": {
          "base_uri": "https://localhost:8080/"
        },
        "id": "yewGM0TFz1tu",
        "outputId": "6afce879-d656-400a-9ab0-aa05c90d6b57"
      },
      "execution_count": null,
      "outputs": [
        {
          "output_type": "stream",
          "name": "stdout",
          "text": [
            "[[1 2 3]\n",
            " [4 5 6]]\n",
            "\n",
            "FLATTEN F: [1 4 2 5 3 6]\n",
            "RAVEL C&K(same): [1 2 3 4 5 6]\n"
          ]
        }
      ]
    },
    {
      "cell_type": "code",
      "source": [
        "#USING INSERT FUNTION IN NUMPY\n",
        "\n",
        "import numpy as np\n",
        "\n",
        "var= np.array([1,2,3,4,5])\n",
        "v= np.insert(var, (2,4), 40)\n",
        "\n",
        "print(var)\n",
        "print(v)"
      ],
      "metadata": {
        "colab": {
          "base_uri": "https://localhost:8080/"
        },
        "id": "nWmfeWCD3lD5",
        "outputId": "b5a9b409-7923-4400-98e7-4b6173e8f1b8"
      },
      "execution_count": null,
      "outputs": [
        {
          "output_type": "stream",
          "name": "stdout",
          "text": [
            "[1 2 3 4 5]\n",
            "[ 1  2 40  3  4 40  5]\n"
          ]
        }
      ]
    },
    {
      "cell_type": "code",
      "source": [
        "var= np.array([[1,2,3],[1,2,3]])\n",
        "\n",
        "np.insert(var,2,[5,6],axis=1)"
      ],
      "metadata": {
        "colab": {
          "base_uri": "https://localhost:8080/"
        },
        "id": "EwdgKStR-Bos",
        "outputId": "4312b65b-2d3a-44f7-b0c2-12ca8bcdefa4"
      },
      "execution_count": null,
      "outputs": [
        {
          "output_type": "execute_result",
          "data": {
            "text/plain": [
              "array([[1, 2, 5, 3],\n",
              "       [1, 2, 6, 3]])"
            ]
          },
          "metadata": {},
          "execution_count": 44
        }
      ]
    },
    {
      "cell_type": "code",
      "source": [
        "#USING APPEND FUNTION OF NUMPY\n",
        "\n",
        "import numpy as np\n",
        "var= np.array([1,2,3])\n",
        "x=np.append(var,[4,5,6], axis=0)\n",
        "print(x)"
      ],
      "metadata": {
        "colab": {
          "base_uri": "https://localhost:8080/"
        },
        "id": "sy_yt_Au-5fj",
        "outputId": "8660b57c-0d46-4420-dcd8-7e66b3dba8a5"
      },
      "execution_count": null,
      "outputs": [
        {
          "output_type": "stream",
          "name": "stdout",
          "text": [
            "[1 2 3 4 5 6]\n"
          ]
        }
      ]
    },
    {
      "cell_type": "code",
      "source": [
        "import numpy as np\n",
        "var= np.array([[1,2,3],[1,2,3]])\n",
        "x=np.append(var,[[5],[6]], axis=1)\n",
        "print(x)"
      ],
      "metadata": {
        "colab": {
          "base_uri": "https://localhost:8080/"
        },
        "id": "5vJEFlm-_2H5",
        "outputId": "cdb9dcc0-8534-4323-e043-df8a2699b779"
      },
      "execution_count": null,
      "outputs": [
        {
          "output_type": "stream",
          "name": "stdout",
          "text": [
            "[[1 2 3 5]\n",
            " [1 2 3 6]]\n"
          ]
        }
      ]
    },
    {
      "cell_type": "code",
      "source": [
        "#USING DELETE FUNTION ON NUMPY\n",
        "#DELETE FUNTION WORK ON INDEXING\n",
        "\n",
        "import numpy as np\n",
        "\n",
        "var= np.array([1,2,3,4])\n",
        "print(var)\n",
        "print()\n",
        "d= np.delete(var,2)\n",
        "print(np.delete(var,2))\n",
        "print()\n",
        "print(d)\n",
        "\n"
      ],
      "metadata": {
        "colab": {
          "base_uri": "https://localhost:8080/"
        },
        "id": "1mOAhrmmA9uw",
        "outputId": "8a260c2e-265f-4746-b60b-d3e0a647021d"
      },
      "execution_count": null,
      "outputs": [
        {
          "output_type": "stream",
          "name": "stdout",
          "text": [
            "[1 2 3 4]\n",
            "\n",
            "[1 2 4]\n",
            "\n",
            "[1 2 4]\n"
          ]
        }
      ]
    },
    {
      "cell_type": "code",
      "source": [
        "#MATRIX\n",
        "\n",
        "import numpy as np\n",
        "\n",
        "mat= np.matrix([[1,2,3],[1,2,3]])\n",
        "print(mat)\n",
        "\n",
        "var= np.array([[1,2,3],[1,2,3]])\n",
        "print(var)\n",
        "print(type(mat))\n",
        "print(type(var))\n",
        "print()\n",
        "print(mat.dtype)\n",
        "print(var.dtype)"
      ],
      "metadata": {
        "colab": {
          "base_uri": "https://localhost:8080/"
        },
        "id": "2iQm6pf1B47r",
        "outputId": "d7d9cf11-bf5a-4107-da97-afed1534060b"
      },
      "execution_count": null,
      "outputs": [
        {
          "output_type": "stream",
          "name": "stdout",
          "text": [
            "[[1 2 3]\n",
            " [1 2 3]]\n",
            "[[1 2 3]\n",
            " [1 2 3]]\n",
            "<class 'numpy.matrix'>\n",
            "<class 'numpy.ndarray'>\n",
            "\n",
            "int64\n",
            "int64\n"
          ]
        }
      ]
    },
    {
      "cell_type": "code",
      "source": [
        "mat1= np.matrix([[1,2],[1,2]])\n",
        "mat2= np.matrix([[1,2],[1,2]])\n",
        "print(mat1 )\n",
        "print()\n",
        "print(mat2)\n",
        "print()\n",
        "print(\"NP sum:\" ,np.add(mat1, mat2))\n",
        "print()\n",
        "print(np.subtract(mat1, mat2))\n",
        "print()\n",
        "print(\"multiply: \" ,mat1*mat2)\n",
        "print()\n",
        "print(\" dot product: \",mat1.dot(mat2))\n",
        "print()\n",
        "print(\"np multiply: \",np.multiply(mat1,mat2))\n",
        "print()\n",
        "print(\" np divide: \",np.divide(mat1,mat2))\n",
        "print()\n",
        "print(\"divide: \",mat1/mat2)\n",
        "print()\n",
        "\n"
      ],
      "metadata": {
        "colab": {
          "base_uri": "https://localhost:8080/"
        },
        "id": "nAKPSATuJrpX",
        "outputId": "a204aabb-378e-4fce-ce89-3ef02319685c"
      },
      "execution_count": null,
      "outputs": [
        {
          "output_type": "stream",
          "name": "stdout",
          "text": [
            "[[1 2]\n",
            " [1 2]]\n",
            "\n",
            "[[1 2]\n",
            " [1 2]]\n",
            "\n",
            "NP sum: [[2 4]\n",
            " [2 4]]\n",
            "\n",
            "[[0 0]\n",
            " [0 0]]\n",
            "\n",
            "multiply:  [[3 6]\n",
            " [3 6]]\n",
            "\n",
            " dot product:  [[3 6]\n",
            " [3 6]]\n",
            "\n",
            "np multiply:  [[1 4]\n",
            " [1 4]]\n",
            "\n",
            " np divide:  [[1. 1.]\n",
            " [1. 1.]]\n",
            "\n",
            "divide:  [[1. 1.]\n",
            " [1. 1.]]\n",
            "\n"
          ]
        }
      ]
    },
    {
      "cell_type": "code",
      "source": [
        "#TRANSPOSE MATRIX\n",
        "\n",
        "import numpy as np\n",
        "\n",
        "mat= np.matrix([[1,2,3],[4,5,6]])\n",
        "print(mat)\n",
        "print()\n",
        "print(mat.T)\n",
        "print()\n",
        "print(np.transpose(mat))\n",
        "print(np.swapaxes(mat,0,1))"
      ],
      "metadata": {
        "colab": {
          "base_uri": "https://localhost:8080/"
        },
        "id": "fkdt9lgxLSKM",
        "outputId": "55d7c202-b565-4745-cb6a-03d64a90f4db"
      },
      "execution_count": null,
      "outputs": [
        {
          "output_type": "stream",
          "name": "stdout",
          "text": [
            "[[1 2 3]\n",
            " [4 5 6]]\n",
            "\n",
            "[[1 4]\n",
            " [2 5]\n",
            " [3 6]]\n",
            "\n",
            "[[1 4]\n",
            " [2 5]\n",
            " [3 6]]\n",
            "[[1 4]\n",
            " [2 5]\n",
            " [3 6]]\n"
          ]
        }
      ]
    },
    {
      "cell_type": "code",
      "source": [
        "var= np.matrix([[1,2],[3,4]])\n",
        "print(np.swapaxes(var,0,1))\n",
        "print(var)"
      ],
      "metadata": {
        "colab": {
          "base_uri": "https://localhost:8080/"
        },
        "id": "4fApPFz3J749",
        "outputId": "e4815311-0c99-40ad-b90b-6a8523f6cdb6"
      },
      "execution_count": null,
      "outputs": [
        {
          "output_type": "stream",
          "name": "stdout",
          "text": [
            "[[1 3]\n",
            " [2 4]]\n",
            "[[1 2]\n",
            " [3 4]]\n"
          ]
        }
      ]
    },
    {
      "cell_type": "code",
      "source": [
        "var= np.matrix([[1,2],[3,4]])\n",
        "print(var,'\\n')\n",
        "\n",
        "print(np.linalg.inv(var))\n",
        "print()\n",
        "print(np.linalg.det(var))\n",
        "print()\n",
        "print(np.linalg.matrix_rank(var))\n",
        "print()\n",
        "print(\"power:\",np.linalg.matrix_power(var,2))\n",
        "print()\n",
        "print(np.linalg.eig(var))\n",
        "\n",
        "values, vector= np.linalg.eig(var)\n",
        "print(values)\n",
        "print()\n",
        "print(vector)\n"
      ],
      "metadata": {
        "colab": {
          "base_uri": "https://localhost:8080/"
        },
        "id": "kZu4oYZobQVR",
        "outputId": "bd49a417-e164-4793-ee6a-95b6496f02ef"
      },
      "execution_count": null,
      "outputs": [
        {
          "output_type": "stream",
          "name": "stdout",
          "text": [
            "[[1 2]\n",
            " [3 4]] \n",
            "\n",
            "[[-2.   1. ]\n",
            " [ 1.5 -0.5]]\n",
            "\n",
            "-2.0000000000000004\n",
            "\n",
            "2\n",
            "\n",
            "pwer: [[ 7 10]\n",
            " [15 22]]\n",
            "\n",
            "EigResult(eigenvalues=array([-0.37228132,  5.37228132]), eigenvectors=matrix([[-0.82456484, -0.41597356],\n",
            "        [ 0.56576746, -0.90937671]]))\n",
            "[-0.37228132  5.37228132]\n",
            "\n",
            "[[-0.82456484 -0.41597356]\n",
            " [ 0.56576746 -0.90937671]]\n"
          ]
        }
      ]
    }
  ]
}
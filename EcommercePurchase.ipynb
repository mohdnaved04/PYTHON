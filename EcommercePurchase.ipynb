{
  "cells": [
    {
      "cell_type": "markdown",
      "metadata": {
        "id": "view-in-github",
        "colab_type": "text"
      },
      "source": [
        "<a href=\"https://colab.research.google.com/github/mohdnaved04/PYTHON/blob/main/EcommercePurchase.ipynb\" target=\"_parent\"><img src=\"https://colab.research.google.com/assets/colab-badge.svg\" alt=\"Open In Colab\"/></a>"
      ]
    },
    {
      "cell_type": "code",
      "execution_count": null,
      "metadata": {
        "id": "UCg3ueF2J7hO"
      },
      "outputs": [],
      "source": [
        "import numpy as np\n",
        "import pandas as pd\n",
        "import string as str"
      ]
    },
    {
      "cell_type": "code",
      "execution_count": null,
      "metadata": {
        "colab": {
          "base_uri": "https://localhost:8080/"
        },
        "id": "BGGHVrfVxGER",
        "outputId": "cb712e11-dcf6-4092-843f-aca7dc4ce436"
      },
      "outputs": [
        {
          "output_type": "stream",
          "name": "stdout",
          "text": [
            "                                                Address    Lot AM or PM  \\\n",
            "0     16629 Pace Camp Apt. 448\\nAlexisborough, NE 77...  46 in       PM   \n",
            "1     9374 Jasmine Spurs Suite 508\\nSouth John, TN 8...  28 rn       PM   \n",
            "2                      Unit 0065 Box 5052\\nDPO AP 27450  94 vE       PM   \n",
            "3                 7780 Julia Fords\\nNew Stacy, WA 45798  36 vm       PM   \n",
            "4     23012 Munoz Drive Suite 337\\nNew Cynthia, TX 5...  20 IE       AM   \n",
            "...                                                 ...    ...      ...   \n",
            "9995      966 Castaneda Locks\\nWest Juliafurt, CO 96415  92 XI       PM   \n",
            "9996  832 Curtis Dam Suite 785\\nNorth Edwardburgh, T...  41 JY       AM   \n",
            "9997              Unit 4434 Box 6343\\nDPO AE 28026-0283  74 Zh       AM   \n",
            "9998               0096 English Rest\\nRoystad, IA 12457  74 cL       PM   \n",
            "9999     40674 Barrett Stravenue\\nGrimesville, WI 79682  64 Hr       AM   \n",
            "\n",
            "                                           Browser Info  \\\n",
            "0     Opera/9.56.(X11; Linux x86_64; sl-SI) Presto/2...   \n",
            "1     Opera/8.93.(Windows 98; Win 9x 4.90; en-US) Pr...   \n",
            "2     Mozilla/5.0 (compatible; MSIE 9.0; Windows NT ...   \n",
            "3     Mozilla/5.0 (Macintosh; Intel Mac OS X 10_8_0 ...   \n",
            "4     Opera/9.58.(X11; Linux x86_64; it-IT) Presto/2...   \n",
            "...                                                 ...   \n",
            "9995  Mozilla/5.0 (Windows NT 5.1) AppleWebKit/5352 ...   \n",
            "9996  Mozilla/5.0 (compatible; MSIE 9.0; Windows NT ...   \n",
            "9997  Mozilla/5.0 (Macintosh; U; Intel Mac OS X 10_7...   \n",
            "9998  Mozilla/5.0 (Macintosh; Intel Mac OS X 10_8_8;...   \n",
            "9999  Mozilla/5.0 (X11; Linux i686; rv:1.9.5.20) Gec...   \n",
            "\n",
            "                              Company       Credit Card CC Exp Date  \\\n",
            "0                     Martinez-Herman  6011929061123406       02/20   \n",
            "1     Fletcher, Richards and Whitaker  3337758169645356       11/18   \n",
            "2          Simpson, Williams and Pham      675957666125       08/19   \n",
            "3     Williams, Marshall and Buchanan  6011578504430710       02/24   \n",
            "4           Brown, Watson and Andrews  6011456623207998       10/25   \n",
            "...                               ...               ...         ...   \n",
            "9995                    Randall-Sloan   342945015358701       03/22   \n",
            "9996         Hale, Collins and Wilson   210033169205009       07/25   \n",
            "9997                     Anderson Ltd  6011539787356311       05/21   \n",
            "9998                         Cook Inc   180003348082930       11/17   \n",
            "9999                       Greene Inc  4139972901927273       02/19   \n",
            "\n",
            "      CC Security Code                  CC Provider  \\\n",
            "0                  900                 JCB 16 digit   \n",
            "1                  561                   Mastercard   \n",
            "2                  699                 JCB 16 digit   \n",
            "3                  384                     Discover   \n",
            "4                  678  Diners Club / Carte Blanche   \n",
            "...                ...                          ...   \n",
            "9995               838                 JCB 15 digit   \n",
            "9996               207                 JCB 16 digit   \n",
            "9997                 1                VISA 16 digit   \n",
            "9998               987             American Express   \n",
            "9999               302                 JCB 15 digit   \n",
            "\n",
            "                               Email                                     Job  \\\n",
            "0                  pdunlap@yahoo.com  Scientist, product/process development   \n",
            "1                 anthony41@reed.com                       Drilling engineer   \n",
            "2     amymiller@morales-harrison.com                Customer service manager   \n",
            "3        brent16@olson-robinson.info                       Drilling engineer   \n",
            "4        christopherwright@gmail.com                             Fine artist   \n",
            "...                              ...                                     ...   \n",
            "9995          iscott@wade-garner.com                              Printmaker   \n",
            "9996              mary85@hotmail.com                         Energy engineer   \n",
            "9997               tyler16@gmail.com                      Veterinary surgeon   \n",
            "9998         elizabethmoore@reid.net                Local government officer   \n",
            "9999           rachelford@vaughn.com                  Embryologist, clinical   \n",
            "\n",
            "           IP Address Language  Purchase Price  \n",
            "0     149.146.147.205       el           98.14  \n",
            "1        15.160.41.51       fr           70.73  \n",
            "2      132.207.160.22       de            0.95  \n",
            "3        30.250.74.19       es           78.04  \n",
            "4        24.140.33.94       es           77.82  \n",
            "...               ...      ...             ...  \n",
            "9995    29.73.197.114       it           82.21  \n",
            "9996   121.133.168.51       pt           25.63  \n",
            "9997    156.210.0.254       el           83.98  \n",
            "9998     55.78.26.143       es           38.84  \n",
            "9999  176.119.198.199       el           67.59  \n",
            "\n",
            "[10000 rows x 14 columns]\n"
          ]
        }
      ],
      "source": [
        "data = pd.read_csv( \"Ecommerce Purchases\")\n",
        "print(data)"
      ]
    },
    {
      "cell_type": "code",
      "source": [
        "from google.colab import drive\n",
        "drive.mount('/content/drive')"
      ],
      "metadata": {
        "colab": {
          "base_uri": "https://localhost:8080/"
        },
        "id": "ojMX1cWqoH9E",
        "outputId": "f097fce5-058b-4ac7-b7dc-8d0ba9b5e343"
      },
      "execution_count": null,
      "outputs": [
        {
          "output_type": "stream",
          "name": "stdout",
          "text": [
            "Mounted at /content/drive\n"
          ]
        }
      ]
    },
    {
      "cell_type": "code",
      "execution_count": null,
      "metadata": {
        "id": "gu4lC9AUxZ6F",
        "colab": {
          "base_uri": "https://localhost:8080/"
        },
        "outputId": "90323102-11b8-482b-9bd5-0a05830a820f"
      },
      "outputs": [
        {
          "output_type": "stream",
          "name": "stdout",
          "text": [
            "                                             Address    Lot AM or PM  \\\n",
            "0  16629 Pace Camp Apt. 448\\nAlexisborough, NE 77...  46 in       PM   \n",
            "1  9374 Jasmine Spurs Suite 508\\nSouth John, TN 8...  28 rn       PM   \n",
            "2                   Unit 0065 Box 5052\\nDPO AP 27450  94 vE       PM   \n",
            "3              7780 Julia Fords\\nNew Stacy, WA 45798  36 vm       PM   \n",
            "4  23012 Munoz Drive Suite 337\\nNew Cynthia, TX 5...  20 IE       AM   \n",
            "5  7502 Powell Mission Apt. 768\\nTravisland, VA 3...  21 XT       PM   \n",
            "6     93971 Conway Causeway\\nAndersonburgh, AZ 75107  96 Xt       AM   \n",
            "7  260 Rachel Plains Suite 366\\nCastroberg, WV 24...  96 pG       PM   \n",
            "8            2129 Dylan Burg\\nNew Michelle, ME 28650  45 JN       PM   \n",
            "9    3795 Dawson Extensions\\nLake Tinafort, ID 88739  15 Ug       AM   \n",
            "\n",
            "                                        Browser Info  \\\n",
            "0  Opera/9.56.(X11; Linux x86_64; sl-SI) Presto/2...   \n",
            "1  Opera/8.93.(Windows 98; Win 9x 4.90; en-US) Pr...   \n",
            "2  Mozilla/5.0 (compatible; MSIE 9.0; Windows NT ...   \n",
            "3  Mozilla/5.0 (Macintosh; Intel Mac OS X 10_8_0 ...   \n",
            "4  Opera/9.58.(X11; Linux x86_64; it-IT) Presto/2...   \n",
            "5  Mozilla/5.0 (Macintosh; U; PPC Mac OS X 10_8_5...   \n",
            "6  Mozilla/5.0 (compatible; MSIE 7.0; Windows NT ...   \n",
            "7  Mozilla/5.0 (X11; Linux i686) AppleWebKit/5350...   \n",
            "8  Mozilla/5.0 (Macintosh; U; Intel Mac OS X 10_7...   \n",
            "9  Mozilla/5.0 (X11; Linux i686; rv:1.9.7.20) Gec...   \n",
            "\n",
            "                           Company       Credit Card CC Exp Date  \\\n",
            "0                  Martinez-Herman  6011929061123406       02/20   \n",
            "1  Fletcher, Richards and Whitaker  3337758169645356       11/18   \n",
            "2       Simpson, Williams and Pham      675957666125       08/19   \n",
            "3  Williams, Marshall and Buchanan  6011578504430710       02/24   \n",
            "4        Brown, Watson and Andrews  6011456623207998       10/25   \n",
            "5                   Silva-Anderson    30246185196287       07/25   \n",
            "6                  Gibson and Sons  6011398782655569       07/24   \n",
            "7                 Marshall-Collins      561252141909       06/25   \n",
            "8                Galloway and Sons   180041795790001       04/24   \n",
            "9     Rivera, Buchanan and Ramirez     4396283918371       01/17   \n",
            "\n",
            "   CC Security Code                  CC Provider  \\\n",
            "0               900                 JCB 16 digit   \n",
            "1               561                   Mastercard   \n",
            "2               699                 JCB 16 digit   \n",
            "3               384                     Discover   \n",
            "4               678  Diners Club / Carte Blanche   \n",
            "5              7169                     Discover   \n",
            "6               714                VISA 16 digit   \n",
            "7               256                VISA 13 digit   \n",
            "8               899                 JCB 16 digit   \n",
            "9               931             American Express   \n",
            "\n",
            "                            Email                                     Job  \\\n",
            "0               pdunlap@yahoo.com  Scientist, product/process development   \n",
            "1              anthony41@reed.com                       Drilling engineer   \n",
            "2  amymiller@morales-harrison.com                Customer service manager   \n",
            "3     brent16@olson-robinson.info                       Drilling engineer   \n",
            "4     christopherwright@gmail.com                             Fine artist   \n",
            "5               ynguyen@gmail.com                       Fish farm manager   \n",
            "6              olivia04@yahoo.com                                  Dancer   \n",
            "7            phillip48@parks.info                         Event organiser   \n",
            "8            kdavis@rasmussen.com                       Financial manager   \n",
            "9        qcoleman@hunt-huerta.com                      Forensic scientist   \n",
            "\n",
            "        IP Address Language  Purchase Price  \n",
            "0  149.146.147.205       el           98.14  \n",
            "1     15.160.41.51       fr           70.73  \n",
            "2   132.207.160.22       de            0.95  \n",
            "3     30.250.74.19       es           78.04  \n",
            "4     24.140.33.94       es           77.82  \n",
            "5    55.96.152.147       ru           25.15  \n",
            "6   127.252.144.18       de           88.56  \n",
            "7   224.247.97.150       pt           44.25  \n",
            "8  146.234.201.229       ru           59.54  \n",
            "9    236.198.199.8       zh           95.63  \n"
          ]
        }
      ],
      "source": [
        "#1. DISPLAY TOP 10 ROWS OF THE DATASET\\\n",
        "print(data.head(10))"
      ]
    },
    {
      "cell_type": "code",
      "execution_count": null,
      "metadata": {
        "id": "gwcu3vuvxgYN",
        "colab": {
          "base_uri": "https://localhost:8080/"
        },
        "outputId": "5963b867-e8ce-4e74-f333-0604eff1f5d7"
      },
      "outputs": [
        {
          "output_type": "stream",
          "name": "stdout",
          "text": [
            "                                                Address    Lot AM or PM  \\\n",
            "9990  75731 Molly Springs\\nWest Danielle, VT 96934-5102  93 ty       PM   \n",
            "9991              PSC 8165, Box 8498\\nAPO AP 60327-0346  50 dA       AM   \n",
            "9992  885 Allen Mountains Apt. 230\\nWallhaven, LA 16995  40 vH       PM   \n",
            "9993  7555 Larson Locks Suite 229\\nEllisburgh, MA 34...  72 jg       PM   \n",
            "9994       6276 Rojas Hollow\\nLake Louis, WY 56410-7837  93 Ex       PM   \n",
            "9995      966 Castaneda Locks\\nWest Juliafurt, CO 96415  92 XI       PM   \n",
            "9996  832 Curtis Dam Suite 785\\nNorth Edwardburgh, T...  41 JY       AM   \n",
            "9997              Unit 4434 Box 6343\\nDPO AE 28026-0283  74 Zh       AM   \n",
            "9998               0096 English Rest\\nRoystad, IA 12457  74 cL       PM   \n",
            "9999     40674 Barrett Stravenue\\nGrimesville, WI 79682  64 Hr       AM   \n",
            "\n",
            "                                           Browser Info  \\\n",
            "9990  Mozilla/5.0 (Macintosh; Intel Mac OS X 10_7_4;...   \n",
            "9991  Mozilla/5.0 (compatible; MSIE 8.0; Windows NT ...   \n",
            "9992  Mozilla/5.0 (Macintosh; PPC Mac OS X 10_6_5) A...   \n",
            "9993  Mozilla/5.0 (Macintosh; U; Intel Mac OS X 10_8...   \n",
            "9994  Opera/9.68.(X11; Linux x86_64; sl-SI) Presto/2...   \n",
            "9995  Mozilla/5.0 (Windows NT 5.1) AppleWebKit/5352 ...   \n",
            "9996  Mozilla/5.0 (compatible; MSIE 9.0; Windows NT ...   \n",
            "9997  Mozilla/5.0 (Macintosh; U; Intel Mac OS X 10_7...   \n",
            "9998  Mozilla/5.0 (Macintosh; Intel Mac OS X 10_8_8;...   \n",
            "9999  Mozilla/5.0 (X11; Linux i686; rv:1.9.5.20) Gec...   \n",
            "\n",
            "                         Company       Credit Card CC Exp Date  \\\n",
            "9990  Pace, Vazquez and Richards   869968197049750       04/24   \n",
            "9991                  Snyder Inc  4221582137197481       02/24   \n",
            "9992                   Wells Ltd  4664825258997302       10/20   \n",
            "9993              Colon and Sons    30025560104631       10/25   \n",
            "9994                Ritter-Smith  3112186784121077       01/25   \n",
            "9995               Randall-Sloan   342945015358701       03/22   \n",
            "9996    Hale, Collins and Wilson   210033169205009       07/25   \n",
            "9997                Anderson Ltd  6011539787356311       05/21   \n",
            "9998                    Cook Inc   180003348082930       11/17   \n",
            "9999                  Greene Inc  4139972901927273       02/19   \n",
            "\n",
            "      CC Security Code       CC Provider                        Email  \\\n",
            "9990               877      JCB 15 digit  andersonmichael@sherman.biz   \n",
            "9991               969           Voyager           kking@wise-liu.com   \n",
            "9992               431          Discover            bberry@wright.net   \n",
            "9993               629           Maestro    chelseawilliams@lopez.biz   \n",
            "9994              1823           Maestro           iroberts@gmail.com   \n",
            "9995               838      JCB 15 digit       iscott@wade-garner.com   \n",
            "9996               207      JCB 16 digit           mary85@hotmail.com   \n",
            "9997                 1     VISA 16 digit            tyler16@gmail.com   \n",
            "9998               987  American Express      elizabethmoore@reid.net   \n",
            "9999               302      JCB 15 digit        rachelford@vaughn.com   \n",
            "\n",
            "                               Job       IP Address Language  Purchase Price  \n",
            "9990           Early years teacher     54.170.3.185       ru           18.35  \n",
            "9991         IT sales professional    254.25.31.156       el           25.93  \n",
            "9992                  Set designer    174.173.51.32       de           67.96  \n",
            "9993  Designer, exhibition/display    177.46.82.128       el           65.61  \n",
            "9994     Education officer, museum    242.44.112.18       zh           31.85  \n",
            "9995                    Printmaker    29.73.197.114       it           82.21  \n",
            "9996               Energy engineer   121.133.168.51       pt           25.63  \n",
            "9997            Veterinary surgeon    156.210.0.254       el           83.98  \n",
            "9998      Local government officer     55.78.26.143       es           38.84  \n",
            "9999        Embryologist, clinical  176.119.198.199       el           67.59  \n"
          ]
        }
      ],
      "source": [
        "#2. CHECK LAST 10 ROWS OF THE DATASET\n",
        "print(data.tail(10))"
      ]
    },
    {
      "cell_type": "code",
      "execution_count": null,
      "metadata": {
        "id": "LXioTwL2xl0k",
        "colab": {
          "base_uri": "https://localhost:8080/"
        },
        "outputId": "96c9d75e-7c85-43ec-fa68-7a56087f05cc"
      },
      "outputs": [
        {
          "output_type": "stream",
          "name": "stdout",
          "text": [
            "Address              object\n",
            "Lot                  object\n",
            "AM or PM             object\n",
            "Browser Info         object\n",
            "Company              object\n",
            "Credit Card           int64\n",
            "CC Exp Date          object\n",
            "CC Security Code      int64\n",
            "CC Provider          object\n",
            "Email                object\n",
            "Job                  object\n",
            "IP Address           object\n",
            "Language             object\n",
            "Purchase Price      float64\n",
            "dtype: object\n"
          ]
        }
      ],
      "source": [
        "#3. CHECK EACH TYPE OF COLUMN IN DATASET\n",
        "print(data.dtypes)"
      ]
    },
    {
      "cell_type": "code",
      "execution_count": null,
      "metadata": {
        "id": "_Fr5wkkCxrFu",
        "colab": {
          "base_uri": "https://localhost:8080/"
        },
        "outputId": "e5c154a2-20f3-4d05-eb2b-ecbcba3b7009"
      },
      "outputs": [
        {
          "output_type": "stream",
          "name": "stdout",
          "text": [
            "      Address    Lot  AM or PM  Browser Info  Company  Credit Card  \\\n",
            "0       False  False     False         False    False        False   \n",
            "1       False  False     False         False    False        False   \n",
            "2       False  False     False         False    False        False   \n",
            "3       False  False     False         False    False        False   \n",
            "4       False  False     False         False    False        False   \n",
            "...       ...    ...       ...           ...      ...          ...   \n",
            "9995    False  False     False         False    False        False   \n",
            "9996    False  False     False         False    False        False   \n",
            "9997    False  False     False         False    False        False   \n",
            "9998    False  False     False         False    False        False   \n",
            "9999    False  False     False         False    False        False   \n",
            "\n",
            "      CC Exp Date  CC Security Code  CC Provider  Email    Job  IP Address  \\\n",
            "0           False             False        False  False  False       False   \n",
            "1           False             False        False  False  False       False   \n",
            "2           False             False        False  False  False       False   \n",
            "3           False             False        False  False  False       False   \n",
            "4           False             False        False  False  False       False   \n",
            "...           ...               ...          ...    ...    ...         ...   \n",
            "9995        False             False        False  False  False       False   \n",
            "9996        False             False        False  False  False       False   \n",
            "9997        False             False        False  False  False       False   \n",
            "9998        False             False        False  False  False       False   \n",
            "9999        False             False        False  False  False       False   \n",
            "\n",
            "      Language  Purchase Price  \n",
            "0        False           False  \n",
            "1        False           False  \n",
            "2        False           False  \n",
            "3        False           False  \n",
            "4        False           False  \n",
            "...        ...             ...  \n",
            "9995     False           False  \n",
            "9996     False           False  \n",
            "9997     False           False  \n",
            "9998     False           False  \n",
            "9999     False           False  \n",
            "\n",
            "[10000 rows x 14 columns]\n"
          ]
        }
      ],
      "source": [
        "#4. CHECK NULL VALUES IN THE DATASET\n",
        "print(data.isnull())"
      ]
    },
    {
      "cell_type": "code",
      "execution_count": null,
      "metadata": {
        "id": "mgbJbjX2xv62",
        "colab": {
          "base_uri": "https://localhost:8080/"
        },
        "outputId": "42a4568b-8b0d-4e6e-ba27-21db671a4197"
      },
      "outputs": [
        {
          "output_type": "stream",
          "name": "stdout",
          "text": [
            "(10000, 14)\n"
          ]
        }
      ],
      "source": [
        "#5. HOW MANY ROWWS AND COLUMNS ARE IN THE DATASET\n",
        "print(data.shape)\n"
      ]
    },
    {
      "cell_type": "code",
      "execution_count": null,
      "metadata": {
        "id": "1nsli3NEx2nC",
        "colab": {
          "base_uri": "https://localhost:8080/"
        },
        "outputId": "c7bef186-b745-494c-f0e8-f4126093f057"
      },
      "outputs": [
        {
          "output_type": "stream",
          "name": "stdout",
          "text": [
            "Highest Price  99.99\n",
            "Lowest Price  0.0\n"
          ]
        }
      ],
      "source": [
        "#6. HIGHEST AND LOWERSST PURCHES PRICES\n",
        "data.dtypes\n",
        "print(\"Highest Price \" , data[\"Purchase Price\"].max())\n",
        "print(\"Lowest Price \", data[\"Purchase Price\"].min())"
      ]
    },
    {
      "cell_type": "code",
      "execution_count": null,
      "metadata": {
        "id": "LU970x3Gx9TK",
        "colab": {
          "base_uri": "https://localhost:8080/"
        },
        "outputId": "020c4d87-8f9e-4029-9111-42a5bb1633b8"
      },
      "outputs": [
        {
          "output_type": "stream",
          "name": "stdout",
          "text": [
            "Average of the purchase price is : 50.347302 \n"
          ]
        }
      ],
      "source": [
        "#7. AVERAGE PURCHASE PRICE\n",
        "print(f\"Average of the purchase price is : {data['Purchase Price'].mean()} \")\n"
      ]
    },
    {
      "cell_type": "code",
      "execution_count": null,
      "metadata": {
        "id": "ntLcktIVx-_G",
        "colab": {
          "base_uri": "https://localhost:8080/"
        },
        "outputId": "3c2536dd-c055-4be4-817b-40609d8de2bc"
      },
      "outputs": [
        {
          "output_type": "stream",
          "name": "stdout",
          "text": [
            "PEOPLE HAVE FRECNCH 'fr' AS THIER LANGUAGE 1097 \n"
          ]
        }
      ],
      "source": [
        "#8. HOW MANY PEOPLE HAVE FRECNCH 'fr' AS THIER LANGUAG\n",
        "print(f\"PEOPLE HAVE FRECNCH 'fr' AS THIER LANGUAGE { data[data['Language'] == 'fr'].shape[0]} \")"
      ]
    },
    {
      "cell_type": "code",
      "execution_count": null,
      "metadata": {
        "id": "YkYR_YtKyQzO",
        "colab": {
          "base_uri": "https://localhost:8080/"
        },
        "outputId": "d69bf1e2-594b-4379-97f5-1ce1855e744a"
      },
      "outputs": [
        {
          "output_type": "stream",
          "name": "stdout",
          "text": [
            "JOb TITLE CONTAINS ENGINEER 984\n"
          ]
        }
      ],
      "source": [
        "#9 JOB TITLE CONTAINS ENGINEER\n",
        "Job_Engineer = data[data[\"Job\"].str.contains( r\"engineer\", case = False, regex = True)].shape[0]\n",
        "print(f\"JOb TITLE CONTAINS ENGINEER { Job_Engineer}\")"
      ]
    },
    {
      "cell_type": "code",
      "execution_count": null,
      "metadata": {
        "id": "dckHMKZuyYhi",
        "colab": {
          "base_uri": "https://localhost:8080/"
        },
        "outputId": "4a6ce89e-064f-450a-976a-ca8b400a3708"
      },
      "outputs": [
        {
          "output_type": "stream",
          "name": "stdout",
          "text": [
            "2    amymiller@morales-harrison.com\n",
            "Name: Email, dtype: object\n"
          ]
        }
      ],
      "source": [
        "#10.  FIND EMAIL OF THE PERSON WITH FOLLOWING IP ADDRESS : 132.207.160.22\n",
        "print ( data[data[\"IP Address\"] ==  \"132.207.160.22\"][\"Email\"])"
      ]
    },
    {
      "cell_type": "code",
      "execution_count": null,
      "metadata": {
        "id": "mfOcprjayk3g",
        "colab": {
          "base_uri": "https://localhost:8080/"
        },
        "outputId": "51b7bf33-6937-4170-9d01-663b04720fbf"
      },
      "outputs": [
        {
          "output_type": "stream",
          "name": "stdout",
          "text": [
            "405\n"
          ]
        }
      ],
      "source": [
        "#11. HOW MAANY PEOPLE HAVE MASTERCARD AS THEIR CREDIT CARD PROVIDER AND MADE A PURCHASE ABOVE 50?\n",
        "print(data[(data[\"CC Provider\"] == \"Mastercard\") &  (data[\"Purchase Price\"] >=50)].shape[0])"
      ]
    },
    {
      "cell_type": "code",
      "execution_count": null,
      "metadata": {
        "id": "Ak6xVXpJypxK",
        "colab": {
          "base_uri": "https://localhost:8080/"
        },
        "outputId": "26b269eb-4e0d-4894-f772-bd2350565e02"
      },
      "outputs": [
        {
          "output_type": "stream",
          "name": "stdout",
          "text": [
            "9992    bberry@wright.net\n",
            "Name: Email, dtype: object\n"
          ]
        }
      ],
      "source": [
        "#12. FIND EMAIL OF THE PERSON WITH FOLLOWING CREDIT CARD NUMBER: 4664825258997302\n",
        "print( data[data[\"Credit Card\"] == 4664825258997302][\"Email\"])"
      ]
    },
    {
      "cell_type": "code",
      "execution_count": null,
      "metadata": {
        "id": "nOmEY2Ywy7pg",
        "colab": {
          "base_uri": "https://localhost:8080/"
        },
        "outputId": "066486dc-c0f2-4591-b025-689fc0d7cace"
      },
      "outputs": [
        {
          "output_type": "stream",
          "name": "stdout",
          "text": [
            "AM or PM\n",
            "PM    5068\n",
            "AM    4932\n",
            "Name: count, dtype: int64\n"
          ]
        }
      ],
      "source": [
        "#13. HOW MANY PEOPLE PURCHASE DURING THE AM AND HOW MANY PEOPLE PURCHASE DURING PM?\n",
        "print(data[\"AM or PM\"].value_counts())"
      ]
    },
    {
      "cell_type": "code",
      "execution_count": null,
      "metadata": {
        "id": "X5MpNcB6zDcG",
        "colab": {
          "base_uri": "https://localhost:8080/"
        },
        "outputId": "f8731394-8b87-4480-d5d2-c28aaba67567"
      },
      "outputs": [
        {
          "output_type": "stream",
          "name": "stdout",
          "text": [
            "988\n"
          ]
        }
      ],
      "source": [
        "#14. HOW MANY PEOPLE HAVE CREDIT CARD EXPIRES IN 2020\n",
        "print( data[data[\"CC Exp Date\"].str.contains(r\"/20$\", case = False, regex = True)].shape[0])  #$ -> start searaching from end.\n"
      ]
    },
    {
      "cell_type": "code",
      "source": [
        "#FIND TOP 5 MOST USED GMAIL ADDRESSES\n",
        "data[\"domain\"] = data[\"Email\"].str.split('@').str[1]\n",
        "top_domain = data[\"domain\"].value_counts().head(5)\n",
        "\n",
        "print(f\"TOP 5 MOST USED GMAIL ADDRESSES {top_domain } \\n\")\n"
      ],
      "metadata": {
        "id": "1-OIjdIV4_Dh"
      },
      "execution_count": null,
      "outputs": []
    }
  ],
  "metadata": {
    "colab": {
      "provenance": [],
      "authorship_tag": "ABX9TyMTSwCfo5ai4EGIACZuYMdC",
      "include_colab_link": true
    },
    "kernelspec": {
      "display_name": "Python 3",
      "name": "python3"
    },
    "language_info": {
      "name": "python"
    }
  },
  "nbformat": 4,
  "nbformat_minor": 0
}